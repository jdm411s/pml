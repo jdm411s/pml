{
  "nbformat": 4,
  "nbformat_minor": 0,
  "metadata": {
    "kernelspec": {
      "name": "Python 3.8.2 64-bit ('pml')",
      "display_name": "Python 3.8.2 64-bit ('pml')",
      "metadata": {
        "interpreter": {
          "hash": "a4c9474aacc61cf72d0f1c29f4a339e5d6b2171c287541cfd684cf058783219b"
        }
      }
    },
    "language_info": {
      "codemirror_mode": {
        "name": "ipython",
        "version": 3
      },
      "file_extension": ".py",
      "mimetype": "text/x-python",
      "name": "python",
      "nbconvert_exporter": "python",
      "pygments_lexer": "ipython3",
      "version": "3.8.2-final"
    },
    "colab": {
      "name": "012.ipynb",
      "provenance": []
    }
  },
  "cells": [
    {
      "cell_type": "markdown",
      "metadata": {
        "scrolled": true,
        "id": "umd2BGLDHlB2"
      },
      "source": [
        "# Credit Approval Yes/No\n",
        "\n"
      ]
    },
    {
      "cell_type": "code",
      "metadata": {
        "id": "nKpQaTYhHlB4"
      },
      "source": [
        " from sklearn.datasets import fetch_openml\n",
        " #Load credit dataset\n",
        " data = fetch_openml(\"credit-g\")"
      ],
      "execution_count": 1,
      "outputs": []
    },
    {
      "cell_type": "code",
      "metadata": {
        "id": "fSkCZctGHlB9",
        "colab": {
          "base_uri": "https://localhost:8080/"
        },
        "outputId": "3f2f5580-4428-438d-849a-c3626c8a1427"
      },
      "source": [
        "#TBD Split into Train and Test dataset. random 75% 25%\n",
        "from sklearn.model_selection import train_test_split\n",
        "from sklearn.preprocessing import LabelEncoder\n",
        "\n",
        "X = data.data\n",
        "Y_raw = data.target\n",
        "\n",
        "label_encoder = LabelEncoder()\n",
        "Y = label_encoder.fit_transform(Y_raw)\n",
        "\n",
        "X_train, X_test, Y_train, Y_test = train_test_split(X, Y, test_size=0.25, random_state=101)\n",
        "\n",
        "print(len(X_train))\n",
        "print(len(X_test))\n",
        "print(len(Y_train))\n",
        "print(len(Y_test))\n"
      ],
      "execution_count": 2,
      "outputs": [
        {
          "output_type": "stream",
          "text": [
            "750\n",
            "250\n",
            "750\n",
            "250\n"
          ],
          "name": "stdout"
        }
      ]
    },
    {
      "cell_type": "code",
      "metadata": {
        "id": "Ik6V5gIvHlCA"
      },
      "source": [
        "#TBD Fit logistic regression model on Training data\n",
        "from sklearn.linear_model import LogisticRegression\n",
        "from sklearn import preprocessing\n",
        "\n",
        "model = LogisticRegression(random_state=0, max_iter=1000).fit(X_train, Y_train)"
      ],
      "execution_count": 3,
      "outputs": []
    },
    {
      "cell_type": "code",
      "metadata": {
        "id": "TZ529RwuHlCD",
        "colab": {
          "base_uri": "https://localhost:8080/"
        },
        "outputId": "25284154-1c84-4389-a69e-b1e8e3da3fb8"
      },
      "source": [
        "#TBD Predict for Test data\n",
        "Y_hat = model.predict(X_test)\n",
        "Y_hat"
      ],
      "execution_count": 4,
      "outputs": [
        {
          "output_type": "execute_result",
          "data": {
            "text/plain": [
              "array([1, 1, 1, 1, 0, 0, 1, 1, 1, 1, 1, 1, 1, 0, 1, 1, 1, 1, 1, 1, 0, 1,\n",
              "       1, 1, 1, 0, 0, 1, 1, 1, 1, 1, 1, 1, 0, 0, 1, 1, 1, 1, 1, 1, 0, 1,\n",
              "       1, 1, 1, 1, 0, 1, 1, 0, 0, 0, 0, 1, 1, 0, 1, 1, 0, 1, 1, 1, 1, 1,\n",
              "       1, 1, 1, 1, 0, 1, 1, 1, 1, 1, 0, 1, 1, 1, 1, 1, 0, 1, 1, 1, 1, 0,\n",
              "       1, 1, 1, 1, 1, 1, 1, 0, 1, 1, 1, 1, 1, 0, 1, 1, 0, 1, 0, 1, 1, 1,\n",
              "       1, 1, 1, 1, 1, 0, 1, 1, 1, 1, 1, 1, 1, 0, 1, 0, 0, 1, 1, 1, 1, 1,\n",
              "       1, 1, 1, 1, 1, 0, 1, 0, 1, 0, 1, 1, 1, 0, 1, 0, 1, 1, 1, 0, 1, 1,\n",
              "       1, 1, 1, 1, 1, 1, 1, 1, 1, 0, 1, 1, 0, 1, 1, 1, 0, 1, 1, 1, 1, 1,\n",
              "       1, 1, 1, 1, 1, 1, 1, 1, 1, 1, 1, 1, 1, 0, 1, 1, 1, 0, 1, 1, 1, 1,\n",
              "       1, 1, 1, 1, 1, 1, 1, 1, 1, 1, 0, 1, 1, 1, 1, 1, 1, 1, 1, 0, 1, 1,\n",
              "       0, 1, 0, 1, 1, 1, 1, 1, 1, 1, 1, 0, 1, 1, 1, 1, 1, 0, 1, 1, 1, 0,\n",
              "       1, 1, 1, 1, 1, 1, 1, 0])"
            ]
          },
          "metadata": {
            "tags": []
          },
          "execution_count": 4
        }
      ]
    },
    {
      "cell_type": "code",
      "metadata": {
        "id": "z4yqESdVHlCF",
        "colab": {
          "base_uri": "https://localhost:8080/"
        },
        "outputId": "2ac37496-9a61-489b-c85b-7da963c57645"
      },
      "source": [
        "#TBD Categorical cross entropy error (log loss) for your predictions\n",
        "from sklearn.metrics import log_loss\n",
        "print(log_loss(Y_test, Y_hat))"
      ],
      "execution_count": 5,
      "outputs": [
        {
          "output_type": "stream",
          "text": [
            "9.256558390101546\n"
          ],
          "name": "stdout"
        }
      ]
    },
    {
      "cell_type": "code",
      "metadata": {
        "id": "tgSl2dIOHlCI",
        "outputId": "3b816b6b-e9e2-48c4-a83b-28228ff73e59",
        "colab": {
          "base_uri": "https://localhost:8080/"
        }
      },
      "source": [
        "#TBD Predict concrete class (instread of probablity score) for test data\n",
        "Y_hat_raw = label_encoder.inverse_transform(Y_hat)\n",
        "print(Y_hat_raw)"
      ],
      "execution_count": 7,
      "outputs": [
        {
          "output_type": "stream",
          "text": [
            "['good' 'good' 'good' 'good' 'bad' 'bad' 'good' 'good' 'good' 'good'\n",
            " 'good' 'good' 'good' 'bad' 'good' 'good' 'good' 'good' 'good' 'good'\n",
            " 'bad' 'good' 'good' 'good' 'good' 'bad' 'bad' 'good' 'good' 'good' 'good'\n",
            " 'good' 'good' 'good' 'bad' 'bad' 'good' 'good' 'good' 'good' 'good'\n",
            " 'good' 'bad' 'good' 'good' 'good' 'good' 'good' 'bad' 'good' 'good' 'bad'\n",
            " 'bad' 'bad' 'bad' 'good' 'good' 'bad' 'good' 'good' 'bad' 'good' 'good'\n",
            " 'good' 'good' 'good' 'good' 'good' 'good' 'good' 'bad' 'good' 'good'\n",
            " 'good' 'good' 'good' 'bad' 'good' 'good' 'good' 'good' 'good' 'bad'\n",
            " 'good' 'good' 'good' 'good' 'bad' 'good' 'good' 'good' 'good' 'good'\n",
            " 'good' 'good' 'bad' 'good' 'good' 'good' 'good' 'good' 'bad' 'good'\n",
            " 'good' 'bad' 'good' 'bad' 'good' 'good' 'good' 'good' 'good' 'good'\n",
            " 'good' 'good' 'bad' 'good' 'good' 'good' 'good' 'good' 'good' 'good'\n",
            " 'bad' 'good' 'bad' 'bad' 'good' 'good' 'good' 'good' 'good' 'good' 'good'\n",
            " 'good' 'good' 'good' 'bad' 'good' 'bad' 'good' 'bad' 'good' 'good' 'good'\n",
            " 'bad' 'good' 'bad' 'good' 'good' 'good' 'bad' 'good' 'good' 'good' 'good'\n",
            " 'good' 'good' 'good' 'good' 'good' 'good' 'good' 'bad' 'good' 'good'\n",
            " 'bad' 'good' 'good' 'good' 'bad' 'good' 'good' 'good' 'good' 'good'\n",
            " 'good' 'good' 'good' 'good' 'good' 'good' 'good' 'good' 'good' 'good'\n",
            " 'good' 'good' 'good' 'bad' 'good' 'good' 'good' 'bad' 'good' 'good'\n",
            " 'good' 'good' 'good' 'good' 'good' 'good' 'good' 'good' 'good' 'good'\n",
            " 'good' 'good' 'bad' 'good' 'good' 'good' 'good' 'good' 'good' 'good'\n",
            " 'good' 'bad' 'good' 'good' 'bad' 'good' 'bad' 'good' 'good' 'good' 'good'\n",
            " 'good' 'good' 'good' 'good' 'bad' 'good' 'good' 'good' 'good' 'good'\n",
            " 'bad' 'good' 'good' 'good' 'bad' 'good' 'good' 'good' 'good' 'good'\n",
            " 'good' 'good' 'bad']\n"
          ],
          "name": "stdout"
        }
      ]
    },
    {
      "cell_type": "code",
      "metadata": {
        "id": "-nd2075eHlCK",
        "colab": {
          "base_uri": "https://localhost:8080/"
        },
        "outputId": "8e75ea1f-dd31-446e-c4a2-376afe4c0774"
      },
      "source": [
        "#TBD Determine accuracy score for concrete predictions\n",
        "from sklearn.metrics import accuracy_score\n",
        "accuracy = accuracy_score(Y_test, Y_hat)\n",
        "print(f\"accuracy={accuracy*100}%\")"
      ],
      "execution_count": 8,
      "outputs": [
        {
          "output_type": "stream",
          "text": [
            "accuracy=73.2%\n"
          ],
          "name": "stdout"
        }
      ]
    },
    {
      "cell_type": "code",
      "metadata": {
        "id": "bcV_6u_JNtPj"
      },
      "source": [
        ""
      ],
      "execution_count": null,
      "outputs": []
    }
  ]
}