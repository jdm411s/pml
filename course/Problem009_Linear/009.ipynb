{
  "nbformat": 4,
  "nbformat_minor": 0,
  "metadata": {
    "kernelspec": {
      "display_name": "Python 3",
      "language": "python",
      "name": "python3"
    },
    "language_info": {
      "codemirror_mode": {
        "name": "ipython",
        "version": 3
      },
      "file_extension": ".py",
      "mimetype": "text/x-python",
      "name": "python",
      "nbconvert_exporter": "python",
      "pygments_lexer": "ipython3",
      "version": "3.8.2-final"
    },
    "colab": {
      "name": "009.ipynb",
      "provenance": []
    }
  },
  "cells": [
    {
      "cell_type": "markdown",
      "metadata": {
        "id": "ReFEAs91Nd7w"
      },
      "source": [
        "## What does linear model do\n"
      ]
    },
    {
      "cell_type": "markdown",
      "metadata": {
        "id": "x02_eXo6Nd7y"
      },
      "source": [
        "## 1-dimensional input (feature)"
      ]
    },
    {
      "cell_type": "code",
      "metadata": {
        "scrolled": true,
        "id": "KhtmNCP4Nd7z"
      },
      "source": [
        "import numpy as np\n",
        "from sklearn import linear_model\n",
        "X_train = np.array([[1],[2],[3],[4]])\n",
        "Y_train = np.array([1,2,3,4])\n",
        "\n",
        "#TBD fit linear model and predict for x=7\n"
      ],
      "execution_count": null,
      "outputs": []
    },
    {
      "cell_type": "code",
      "metadata": {
        "id": "Yn8WiBkvNd73"
      },
      "source": [
        "X_train = np.array([[1],[2],[3],[4]])\n",
        "Y_train = np.array([3,4,5,6])\n",
        "\n",
        "#TBD fit linear model and predict for x=7"
      ],
      "execution_count": null,
      "outputs": []
    },
    {
      "cell_type": "code",
      "metadata": {
        "id": "bhQkneDDNd76"
      },
      "source": [
        "X_train = np.array([[0],[0.1],[2],[2.1],[4],[4.1]])\n",
        "Y_train = np.array([0,2,1,3,2,4])\n",
        "\n",
        "#TBD fit linear model and predict for x=4\n"
      ],
      "execution_count": null,
      "outputs": []
    },
    {
      "cell_type": "code",
      "metadata": {
        "id": "m61xBoEkNd79"
      },
      "source": [
        "#TBD Plot above 3 models"
      ],
      "execution_count": null,
      "outputs": []
    },
    {
      "cell_type": "markdown",
      "metadata": {
        "id": "MAi80Q7bNd8B"
      },
      "source": [
        "## 2 dimensional input (features)"
      ]
    },
    {
      "cell_type": "code",
      "metadata": {
        "id": "vGMsGdQ8Nd8B"
      },
      "source": [
        "from random import random, seed\n",
        "\n",
        "n = 50\n",
        "seed(1)                                     \n",
        "X_train = [[random(), random()] for i in range(n)]              \n",
        "Y_train = [random() for i in range(n)]\n",
        "\n",
        "#TBD fit linear model and predict for x=(7,8)"
      ],
      "execution_count": null,
      "outputs": []
    },
    {
      "cell_type": "code",
      "metadata": {
        "id": "Kj3E7TrXNd8E"
      },
      "source": [
        "#Plot above model"
      ],
      "execution_count": null,
      "outputs": []
    },
    {
      "cell_type": "markdown",
      "metadata": {
        "id": "sM2XMe4oNd8H"
      },
      "source": [
        "## 13 dimensional input (features)"
      ]
    },
    {
      "cell_type": "code",
      "metadata": {
        "id": "KRGAJSbSNd8I"
      },
      "source": [
        "#TBD Load boston dataset\n",
        "from sklearn.datasets import load_boston\n",
        "house_data = load_boston()\n",
        "X = house_data['data']\n",
        "Y = house_data['target']"
      ],
      "execution_count": 12,
      "outputs": []
    },
    {
      "cell_type": "code",
      "metadata": {
        "id": "fHopwpxFNd8L",
        "outputId": "b0f198fe-3fd6-4243-e4c8-62eb844f6e91",
        "colab": {
          "base_uri": "https://localhost:8080/"
        }
      },
      "source": [
        "#TBD Split into Train and Test dataset. random 90% 10%\n",
        "from sklearn.model_selection import train_test_split\n",
        "X_train, X_test, Y_train, Y_test = train_test_split(X, Y, test_size=0.1, random_state=100)\n",
        "\n",
        "print(len(X_train))\n",
        "print(len(X_test))\n",
        "print(len(Y_train))\n",
        "print(len(Y_test))"
      ],
      "execution_count": 13,
      "outputs": [
        {
          "output_type": "stream",
          "text": [
            "455\n",
            "51\n",
            "455\n",
            "51\n"
          ],
          "name": "stdout"
        }
      ]
    },
    {
      "cell_type": "code",
      "metadata": {
        "id": "rYMSKDgJNd8N",
        "outputId": "20dcce41-61f9-4c4c-85f6-d97ea4fe3938",
        "colab": {
          "base_uri": "https://localhost:8080/"
        }
      },
      "source": [
        "#TBD Fit linear model on Training data\n",
        "from sklearn import linear_model\n",
        "import numpy as np\n",
        "model=linear_model.LinearRegression()\n",
        "reg = model.fit(X_train, Y_train)"
      ],
      "execution_count": 14,
      "outputs": [
        {
          "output_type": "execute_result",
          "data": {
            "text/plain": [
              "LinearRegression(copy_X=True, fit_intercept=True, n_jobs=None, normalize=False)"
            ]
          },
          "metadata": {
            "tags": []
          },
          "execution_count": 14
        }
      ]
    },
    {
      "cell_type": "code",
      "metadata": {
        "id": "lK4ndG6FNd8Q",
        "outputId": "09b3203c-52c8-4e2e-c015-dd43c4166a4c",
        "colab": {
          "base_uri": "https://localhost:8080/"
        }
      },
      "source": [
        "#TBD Predict for Test data\n",
        "Y_pred = reg.predict(X_test)\n",
        "Y_pred"
      ],
      "execution_count": 23,
      "outputs": [
        {
          "output_type": "execute_result",
          "data": {
            "text/plain": [
              "array([34.73854891, 31.38386081, 22.50095164, 18.11482062, 20.80652485,\n",
              "       26.82066337, 26.51729548, 23.69329108, 22.57632825, 19.65231589,\n",
              "       27.2165001 , 17.35789228, 20.73098895, 15.44063062, 41.80129521,\n",
              "       20.64574941, 29.39718966, 19.10202898, 32.69551102, 41.42350361,\n",
              "       34.83261633, 16.64724327, 20.47215905, 18.17542226, 13.17207931,\n",
              "       12.44654353, 27.62379834, 20.2718287 , 18.93920937, 20.27751001,\n",
              "       15.80159619, 24.64643662, 39.18423553, 24.93954833, 31.18670571,\n",
              "       28.60550358, 16.72979952, 14.90711431, 16.73702475, 23.3503098 ,\n",
              "       23.2160066 , 23.46960111, 14.14781287, 21.52025297, 32.962711  ,\n",
              "       27.41213449, 19.62228311, 15.09940082, 17.24149876, 12.80786476,\n",
              "       22.01038489])"
            ]
          },
          "metadata": {
            "tags": []
          },
          "execution_count": 23
        }
      ]
    },
    {
      "cell_type": "code",
      "metadata": {
        "id": "Ohx05aX4Nd8T",
        "outputId": "655cb3a2-57c3-4e4d-a10b-afda832b4b3b",
        "colab": {
          "base_uri": "https://localhost:8080/"
        }
      },
      "source": [
        "#TBD Mean squared error for your predictions\n",
        "from sklearn.metrics import mean_squared_error\n",
        "\n",
        "mean_squared_error(Y_test, Y_pred)"
      ],
      "execution_count": 24,
      "outputs": [
        {
          "output_type": "execute_result",
          "data": {
            "text/plain": [
              "12.971797020773563"
            ]
          },
          "metadata": {
            "tags": []
          },
          "execution_count": 24
        }
      ]
    },
    {
      "cell_type": "markdown",
      "metadata": {
        "id": "Na7kjgGoNd8V"
      },
      "source": [
        "## Problems with linear model\n",
        "![title](https://github.com/jdm411s/pml/blob/master/img/anscombe_quartet.png?raw=1)\n",
        "\n",
        "### Ansombe Quartet \n",
        "### y = x/2 + 3"
      ]
    }
  ]
}