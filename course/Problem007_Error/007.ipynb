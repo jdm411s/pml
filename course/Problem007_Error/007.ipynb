{
  "nbformat": 4,
  "nbformat_minor": 0,
  "metadata": {
    "kernelspec": {
      "display_name": "Python 3",
      "language": "python",
      "name": "python3"
    },
    "language_info": {
      "codemirror_mode": {
        "name": "ipython",
        "version": 3
      },
      "file_extension": ".py",
      "mimetype": "text/x-python",
      "name": "python",
      "nbconvert_exporter": "python",
      "pygments_lexer": "ipython3",
      "version": "3.8.2-final"
    },
    "colab": {
      "name": "Copy of 007.ipynb",
      "provenance": [],
      "include_colab_link": true
    }
  },
  "cells": [
    {
      "cell_type": "markdown",
      "metadata": {
        "id": "view-in-github",
        "colab_type": "text"
      },
      "source": [
        "<a href=\"https://colab.research.google.com/github/jdm411s/pml/blob/master/course/Problem007_Error/007.ipynb\" target=\"_parent\"><img src=\"https://colab.research.google.com/assets/colab-badge.svg\" alt=\"Open In Colab\"/></a>"
      ]
    },
    {
      "cell_type": "markdown",
      "metadata": {
        "id": "DZxrOHgFIVgp"
      },
      "source": [
        "##  $\\hat{y}$ (y_hat)"
      ]
    },
    {
      "cell_type": "code",
      "metadata": {
        "scrolled": true,
        "id": "hmFblMl2IVgq",
        "outputId": "9d5f4891-07dd-4843-f515-873caf171f82",
        "colab": {
          "base_uri": "https://localhost:8080/"
        }
      },
      "source": [
        "'''\n",
        "+--------------+\n",
        "| f            |\n",
        "+--------------+\n",
        "| x1 | x2 | y  |\n",
        "+----+----+----+\n",
        "| 2  | 3  | 4  |\n",
        "+----+----+----+\n",
        "| 8  | 5  | 10  |\n",
        "+----+----+----+\n",
        "| 6  | 4  | 6  |\n",
        "+----+----+----+\n",
        "| 10 | 2  | 8  |\n",
        "+----+----+----+\n",
        "| 4  | 2  | 3  |\n",
        "+----+----+----+\n",
        "| 16 | 7  | 1 |\n",
        "+----+----+----+\n",
        "'''\n",
        "\n",
        "X = [\n",
        "    [2, 3],\n",
        "    [8, 5],\n",
        "    [6, 4],\n",
        "    [10, 2],\n",
        "    [4, 2],\n",
        "    [16, 7]\n",
        "]\n",
        "\n",
        "Y = [4, 10, 6, 8, 3, 1]\n",
        "\n",
        "\n",
        "def f_hat(x1, x2):\n",
        "    return int(x1/2 + x2)\n",
        "\n",
        "Y_hat = [f_hat(x[0],x[1]) for x in X]\n",
        "Y_hat\n"
      ],
      "execution_count": null,
      "outputs": [
        {
          "output_type": "execute_result",
          "data": {
            "text/plain": [
              "[4, 9, 7, 7, 4, 15]"
            ]
          },
          "metadata": {
            "tags": []
          },
          "execution_count": 1
        }
      ]
    },
    {
      "cell_type": "markdown",
      "metadata": {
        "id": "ocfxTuheIVgw"
      },
      "source": [
        "## How far off are we? (Y vs $\\hat{Y}$)"
      ]
    },
    {
      "cell_type": "code",
      "metadata": {
        "id": "tyz7PkiwIVgx",
        "outputId": "1b5fba10-cdd7-494c-e4bc-6d6177ab3c83",
        "colab": {
          "base_uri": "https://localhost:8080/"
        }
      },
      "source": [
        "#TBD Compute Total(sum) Error between Y and Y_hat \n",
        "total_error = sum([ z[0] - z[1] for z in zip(Y, Y_hat)])\n",
        "print(total_error)\n",
        "#TBD Compute Total absolute Error between Y and Y_hat \n",
        "total_abs_error = sum([ abs(z[0] - z[1]) for z in zip(Y, Y_hat)])\n",
        "print(total_abs_error)\n",
        "#TBD Compute Mean absolute Error between Y and Y_hat \n",
        "mean_abs_error = total_abs_error/len(Y)\n",
        "print(mean_abs_error)\n",
        "#TBD Compute Mean Squared Error between Y and Y_hat\n",
        "mean_squared_error = sum([ (z[0] - z[1])**2 for z in zip(Y, Y_hat)])/len(Y)\n",
        "print(mean_squared_error)"
      ],
      "execution_count": null,
      "outputs": [
        {
          "output_type": "stream",
          "text": [
            "-14\n",
            "18\n",
            "3.0\n",
            "33.333333333333336\n"
          ],
          "name": "stdout"
        }
      ]
    },
    {
      "cell_type": "code",
      "metadata": {
        "id": "_QY6yxstIVg0",
        "outputId": "f24aa0fa-f11c-464c-dec2-83a11c9a84e4",
        "colab": {
          "base_uri": "https://localhost:8080/"
        }
      },
      "source": [
        "from sklearn.metrics import mean_absolute_error, mean_squared_error\n",
        "#Use sklearn\n",
        "#TBD Compute Mean absolute Error between Y and Y_hat \n",
        "print(mean_absolute_error(Y, Y_hat))\n",
        "#TBD Compute Mean squared Error between Y and Y_hat\n",
        "print(mean_squared_error(Y, Y_hat))"
      ],
      "execution_count": null,
      "outputs": [
        {
          "output_type": "stream",
          "text": [
            "3.0\n",
            "33.333333333333336\n"
          ],
          "name": "stdout"
        }
      ]
    },
    {
      "cell_type": "code",
      "metadata": {
        "id": "8DjFhjNRJ8fA",
        "outputId": "90b0da8a-29ce-409b-ec57-4b034b1591f0",
        "colab": {
          "base_uri": "https://localhost:8080/"
        }
      },
      "source": [
        "import numpy as np\n",
        "\n",
        "Y = np.array(Y)\n",
        "Y_hat = np.array(Y_hat)\n",
        "\n",
        "print(np.sum(Y - Y_hat))\n",
        "print(np.sum(np.abs(Y - Y_hat)))\n",
        "print(np.sum(np.abs(Y - Y_hat))/len(Y))\n",
        "print(np.sum(np.square(Y - Y_hat))/len(Y))"
      ],
      "execution_count": null,
      "outputs": [
        {
          "output_type": "stream",
          "text": [
            "-14\n",
            "18\n",
            "3.0\n",
            "33.333333333333336\n"
          ],
          "name": "stdout"
        }
      ]
    },
    {
      "cell_type": "code",
      "metadata": {
        "id": "FR78GF7WKMHV"
      },
      "source": [
        ""
      ],
      "execution_count": null,
      "outputs": []
    }
  ]
}