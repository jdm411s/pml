{
  "nbformat": 4,
  "nbformat_minor": 0,
  "metadata": {
    "kernelspec": {
      "display_name": "Python 3",
      "language": "python",
      "name": "python3"
    },
    "language_info": {
      "codemirror_mode": {
        "name": "ipython",
        "version": 3
      },
      "file_extension": ".py",
      "mimetype": "text/x-python",
      "name": "python",
      "nbconvert_exporter": "python",
      "pygments_lexer": "ipython3",
      "version": "3.8.2-final"
    },
    "colab": {
      "name": "016.ipynb",
      "provenance": []
    }
  },
  "cells": [
    {
      "cell_type": "markdown",
      "metadata": {
        "id": "QyGvVJM-XfnB"
      },
      "source": [
        "## Neural Network\n",
        "\n",
        "<img src=\"https://github.com/jdm411s/pml/blob/master/img/nn016.png?raw=1\" width=\"900\">\n",
        "\n",
        "## TBD: For the given neural network above: \n",
        "* How many layers are there in total?\n",
        "* How many hidden layers?\n",
        "* How many weights are there in first hidden layer?\n",
        "* How many weights are there in total?\n",
        "* How many activations are produced from first hidden layer for single input sample?\n"
      ]
    },
    {
      "cell_type": "markdown",
      "metadata": {
        "id": "tS9A1VsEXmGZ"
      },
      "source": [
        "4 layers total<br>\n",
        "2 hidden layers<br>\n",
        "6 weights in total, 3 neurons with 2 weights each<br>\n",
        "total weights = 14, 6 L1 + 6 L2 + 2 L3<br>\n",
        "3 activiations, 1 per neuron"
      ]
    }
  ]
}