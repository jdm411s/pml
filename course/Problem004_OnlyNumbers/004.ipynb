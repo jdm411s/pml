{
  "nbformat": 4,
  "nbformat_minor": 0,
  "metadata": {
    "kernelspec": {
      "display_name": "Python 3",
      "language": "python",
      "name": "python3"
    },
    "language_info": {
      "codemirror_mode": {
        "name": "ipython",
        "version": 3
      },
      "file_extension": ".py",
      "mimetype": "text/x-python",
      "name": "python",
      "nbconvert_exporter": "python",
      "pygments_lexer": "ipython3",
      "version": "3.6.5"
    },
    "colab": {
      "name": "004.ipynb",
      "provenance": []
    }
  },
  "cells": [
    {
      "cell_type": "markdown",
      "metadata": {
        "scrolled": true,
        "id": "Z5jlyUaxCiwI"
      },
      "source": [
        "### Features and Target  are (should be) numbers"
      ]
    },
    {
      "cell_type": "markdown",
      "metadata": {
        "id": "uaZM7bAlCiwJ"
      },
      "source": [
        "#### Text as Features"
      ]
    },
    {
      "cell_type": "code",
      "metadata": {
        "id": "OAm7QQmwCiwK"
      },
      "source": [
        "# Lets say your vocabulary consist of only 4 words\n",
        "# \"foo\", \"bar\", \"hello\", \"world\"\n",
        "\n",
        "# If we want to build a dataset of following 4 documents\n",
        "# to be passed to some ML algorithm\n",
        "\n",
        "doc1 = \"foo foo bar\"\n",
        "doc2 = \"foo\"\n",
        "doc3 = \"hello world\"\n",
        "doc4 = \"hello foo\"\n",
        "\n",
        "docs = [doc1, doc2, doc3, doc4]\n",
        "\n",
        "#       s,f,o,b,a,r,h,e,l,w,d\n",
        "# doc1\n",
        "#       foo bar hello world\n",
        "# doc1   2   1    0     0\n",
        "\n",
        "# TBD, convert docs to X, i.e a dataset of features which ML algorithm can understand\n",
        "\n",
        "# docs = [\n",
        "#         [2, 1, 0, 0],\n",
        "#         [1],\n",
        "#         [0, 0, 1, 1],\n",
        "#         [1, 0, 1, 0]\n",
        "# ]"
      ],
      "execution_count": null,
      "outputs": []
    },
    {
      "cell_type": "code",
      "metadata": {
        "id": "8MnyPZ4GCiwP",
        "colab": {
          "base_uri": "https://localhost:8080/",
          "height": 153
        },
        "outputId": "cd54a99d-48fe-4962-9677-0e0d88ebbd3f"
      },
      "source": [
        "# TBD, convert docs to X, i.e a dataset of features which ML algorithm can understand\n",
        "# using CountVectorizer\n",
        "from sklearn.feature_extraction.text import CountVectorizer\n",
        "\n",
        "vectorizer = CountVectorizer()\n",
        "X = vectorizer.fit_transform(docs)\n",
        "\n",
        "print(docs)\n",
        "print('')\n",
        "print(vectorizer.get_feature_names())\n",
        "print('')\n",
        "print(X.toarray())"
      ],
      "execution_count": null,
      "outputs": [
        {
          "output_type": "stream",
          "text": [
            "['foo foo bar', 'foo', 'hello world', 'hello foo']\n",
            "\n",
            "['bar', 'foo', 'hello', 'world']\n",
            "\n",
            "[[1 2 0 0]\n",
            " [0 1 0 0]\n",
            " [0 0 1 1]\n",
            " [0 1 1 0]]\n"
          ],
          "name": "stdout"
        }
      ]
    },
    {
      "cell_type": "markdown",
      "metadata": {
        "id": "2QtaOrxdCiwS"
      },
      "source": [
        "#### Image as Features"
      ]
    },
    {
      "cell_type": "code",
      "metadata": {
        "id": "t0Tdyma2CiwT",
        "colab": {
          "base_uri": "https://localhost:8080/"
        },
        "outputId": "2b82a585-a704-4658-e95e-58cc0bdcad6b"
      },
      "source": [
        "from sklearn.datasets import load_digits\n",
        "digits_data = load_digits()\n",
        "dir(digits_data)\n",
        "# ['DESCR', 'data', 'images', 'target', 'target_names']\n",
        "print(digits_data['DESCR'])"
      ],
      "execution_count": null,
      "outputs": [
        {
          "output_type": "stream",
          "text": [
            ".. _digits_dataset:\n",
            "\n",
            "Optical recognition of handwritten digits dataset\n",
            "--------------------------------------------------\n",
            "\n",
            "**Data Set Characteristics:**\n",
            "\n",
            "    :Number of Instances: 5620\n",
            "    :Number of Attributes: 64\n",
            "    :Attribute Information: 8x8 image of integer pixels in the range 0..16.\n",
            "    :Missing Attribute Values: None\n",
            "    :Creator: E. Alpaydin (alpaydin '@' boun.edu.tr)\n",
            "    :Date: July; 1998\n",
            "\n",
            "This is a copy of the test set of the UCI ML hand-written digits datasets\n",
            "https://archive.ics.uci.edu/ml/datasets/Optical+Recognition+of+Handwritten+Digits\n",
            "\n",
            "The data set contains images of hand-written digits: 10 classes where\n",
            "each class refers to a digit.\n",
            "\n",
            "Preprocessing programs made available by NIST were used to extract\n",
            "normalized bitmaps of handwritten digits from a preprinted form. From a\n",
            "total of 43 people, 30 contributed to the training set and different 13\n",
            "to the test set. 32x32 bitmaps are divided into nonoverlapping blocks of\n",
            "4x4 and the number of on pixels are counted in each block. This generates\n",
            "an input matrix of 8x8 where each element is an integer in the range\n",
            "0..16. This reduces dimensionality and gives invariance to small\n",
            "distortions.\n",
            "\n",
            "For info on NIST preprocessing routines, see M. D. Garris, J. L. Blue, G.\n",
            "T. Candela, D. L. Dimmick, J. Geist, P. J. Grother, S. A. Janet, and C.\n",
            "L. Wilson, NIST Form-Based Handprint Recognition System, NISTIR 5469,\n",
            "1994.\n",
            "\n",
            ".. topic:: References\n",
            "\n",
            "  - C. Kaynak (1995) Methods of Combining Multiple Classifiers and Their\n",
            "    Applications to Handwritten Digit Recognition, MSc Thesis, Institute of\n",
            "    Graduate Studies in Science and Engineering, Bogazici University.\n",
            "  - E. Alpaydin, C. Kaynak (1998) Cascading Classifiers, Kybernetika.\n",
            "  - Ken Tang and Ponnuthurai N. Suganthan and Xi Yao and A. Kai Qin.\n",
            "    Linear dimensionalityreduction using relevance weighted LDA. School of\n",
            "    Electrical and Electronic Engineering Nanyang Technological University.\n",
            "    2005.\n",
            "  - Claudio Gentile. A New Approximate Maximal Margin Classification\n",
            "    Algorithm. NIPS. 2000.\n"
          ],
          "name": "stdout"
        }
      ]
    },
    {
      "cell_type": "code",
      "metadata": {
        "id": "jFzaclL5CiwX",
        "colab": {
          "base_uri": "https://localhost:8080/",
          "height": 156
        },
        "outputId": "c776b421-9f7a-45ac-c5c0-d696a5223695"
      },
      "source": [
        "import matplotlib.pyplot as plt\n",
        "def show_image(image, label):\n",
        "    plt.figure(figsize=(3,2))\n",
        "    plt.axis('off')\n",
        "    plt.imshow(image, cmap='gray')\n",
        "    plt.title('Label: %i' % label)\n",
        "    plt.show()\n",
        "\n",
        "# TBD for image 12 show image and label, use function show_image\n",
        "show_image(digits_data['images'][12],digits_data['target'][12])"
      ],
      "execution_count": null,
      "outputs": [
        {
          "output_type": "display_data",
          "data": {
            "image/png": "[encoded data removed]",
            "text/plain": [
              "<Figure size 216x144 with 1 Axes>"
            ]
          },
          "metadata": {
            "tags": [],
            "needs_background": "light"
          }
        }
      ]
    },
    {
      "cell_type": "markdown",
      "metadata": {
        "id": "g6mqnPleCiwa"
      },
      "source": [
        "#### Image 12 all features\n",
        "$\n",
        "\\begin{align}\n",
        "X^{12} \n",
        "\\end{align}\n",
        "$\n"
      ]
    },
    {
      "cell_type": "code",
      "metadata": {
        "id": "Yo4KiZrSCiwa",
        "colab": {
          "base_uri": "https://localhost:8080/"
        },
        "outputId": "627067e5-3c1a-4e03-e174-866153beb1b5"
      },
      "source": [
        "digits_data['data'][12]"
      ],
      "execution_count": null,
      "outputs": [
        {
          "output_type": "execute_result",
          "data": {
            "text/plain": [
              "array([ 0.,  0.,  5., 12.,  1.,  0.,  0.,  0.,  0.,  0., 15., 14.,  7.,\n",
              "        0.,  0.,  0.,  0.,  0., 13.,  1., 12.,  0.,  0.,  0.,  0.,  2.,\n",
              "       10.,  0., 14.,  0.,  0.,  0.,  0.,  0.,  2.,  0., 16.,  1.,  0.,\n",
              "        0.,  0.,  0.,  0.,  6., 15.,  0.,  0.,  0.,  0.,  0.,  9., 16.,\n",
              "       15.,  9.,  8.,  2.,  0.,  0.,  3., 11.,  8., 13., 12.,  4.])"
            ]
          },
          "metadata": {
            "tags": []
          },
          "execution_count": 4
        }
      ]
    },
    {
      "cell_type": "markdown",
      "metadata": {
        "id": "9UoXe9upCiwe"
      },
      "source": [
        "####  Image 12 intensity of pixel 20 \n",
        "$\n",
        "\\begin{align}\n",
        "X^{12}_{20} \n",
        "\\end{align}\n",
        "$"
      ]
    },
    {
      "cell_type": "code",
      "metadata": {
        "id": "r6oADpegCiwf",
        "colab": {
          "base_uri": "https://localhost:8080/"
        },
        "outputId": "b9bafa53-9cc1-430f-f8d5-fe0daef35e88"
      },
      "source": [
        "digits_data['data'][12][20]"
      ],
      "execution_count": null,
      "outputs": [
        {
          "output_type": "execute_result",
          "data": {
            "text/plain": [
              "12.0"
            ]
          },
          "metadata": {
            "tags": []
          },
          "execution_count": 5
        }
      ]
    }
  ]
}