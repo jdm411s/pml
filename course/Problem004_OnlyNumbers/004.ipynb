{
  "nbformat": 4,
  "nbformat_minor": 0,
  "metadata": {
    "kernelspec": {
      "display_name": "Python 3",
      "language": "python",
      "name": "python3"
    },
    "language_info": {
      "codemirror_mode": {
        "name": "ipython",
        "version": 3
      },
      "file_extension": ".py",
      "mimetype": "text/x-python",
      "name": "python",
      "nbconvert_exporter": "python",
      "pygments_lexer": "ipython3",
      "version": "3.6.5"
    },
    "colab": {
      "name": "004.ipynb",
      "provenance": []
    }
  },
  "cells": [
    {
      "cell_type": "markdown",
      "metadata": {
        "scrolled": true,
        "id": "Z5jlyUaxCiwI"
      },
      "source": [
        "### Features and Target  are (should be) numbers"
      ]
    },
    {
      "cell_type": "markdown",
      "metadata": {
        "id": "uaZM7bAlCiwJ"
      },
      "source": [
        "#### Text as Features"
      ]
    },
    {
      "cell_type": "code",
      "metadata": {
        "id": "OAm7QQmwCiwK",
        "outputId": "d295995a-4203-4809-c41b-9bab73e57614",
        "colab": {
          "base_uri": "https://localhost:8080/",
          "height": 34
        }
      },
      "source": [
        "# Lets say your vocabulary consist of only 4 words\n",
        "# \"foo\", \"bar\", \"hello\", \"world\"\n",
        "\n",
        "# If we want to build a dataset of following 4 documents\n",
        "# to be passed to some ML algorithm\n",
        "\n",
        "doc1 = \"foo foo bar\"\n",
        "doc2 = \"foo\"\n",
        "doc3 = \"hello world\"\n",
        "doc4 = \"hello foo\"\n",
        "\n",
        "docs = [doc1, doc2, doc3, doc4]\n",
        "\n",
        "#       s,f,o,b,a,r,h,e,l,w,d\n",
        "# doc1\n",
        "#       foo bar hello world\n",
        "# doc1   2   1    0     0\n",
        "\n",
        "# TBD, convert docs to X, i.e a dataset of features which ML algorithm can understand\n",
        "\n",
        "docs = [\n",
        "        [2, 1, 0, 0],\n",
        "        [1],\n",
        "        [0, 0, 1, 1],\n",
        "        [1, 0, 1, 0]\n",
        "]"
      ],
      "execution_count": 1,
      "outputs": [
        {
          "output_type": "stream",
          "text": [
            "[['foo', 'foo', 'bar'], ['foo'], ['hello', 'world'], ['hello', 'foo']]\n"
          ],
          "name": "stdout"
        }
      ]
    },
    {
      "cell_type": "code",
      "metadata": {
        "id": "8MnyPZ4GCiwP"
      },
      "source": [
        "# TBD, convert docs to X, i.e a dataset of features which ML algorithm can understand\n",
        "# using CountVectorizer\n",
        "from sklearn.feature_extraction.text import CountVectorizer\n"
      ],
      "execution_count": null,
      "outputs": []
    },
    {
      "cell_type": "markdown",
      "metadata": {
        "id": "2QtaOrxdCiwS"
      },
      "source": [
        "#### Image as Features"
      ]
    },
    {
      "cell_type": "code",
      "metadata": {
        "id": "t0Tdyma2CiwT",
        "outputId": "6aa31bc5-3ca9-420b-c574-500e6c3f00b7"
      },
      "source": [
        "from sklearn.datasets import load_digits\n",
        "digits_data = load_digits()\n",
        "dir(digits_data)"
      ],
      "execution_count": null,
      "outputs": [
        {
          "output_type": "execute_result",
          "data": {
            "text/plain": [
              "['DESCR', 'data', 'images', 'target', 'target_names']"
            ]
          },
          "metadata": {
            "tags": []
          },
          "execution_count": 2
        }
      ]
    },
    {
      "cell_type": "code",
      "metadata": {
        "id": "jFzaclL5CiwX"
      },
      "source": [
        "import matplotlib.pyplot as plt\n",
        "def show_image(image, label):\n",
        "    plt.figure(figsize=(3,2))\n",
        "    plt.axis('off')\n",
        "    plt.imshow(image, cmap='gray')\n",
        "    plt.title('Label: %i' % label)\n",
        "    plt.show()\n",
        "\n",
        "# TBD for image 12 show image and label, use function show_image"
      ],
      "execution_count": null,
      "outputs": []
    },
    {
      "cell_type": "markdown",
      "metadata": {
        "id": "g6mqnPleCiwa"
      },
      "source": [
        "#### Image 12 all features\n",
        "$\n",
        "\\begin{align}\n",
        "X^{12} \n",
        "\\end{align}\n",
        "$\n"
      ]
    },
    {
      "cell_type": "code",
      "metadata": {
        "id": "Yo4KiZrSCiwa"
      },
      "source": [
        "# TBD"
      ],
      "execution_count": null,
      "outputs": []
    },
    {
      "cell_type": "markdown",
      "metadata": {
        "id": "9UoXe9upCiwe"
      },
      "source": [
        "####  Image 12 intensity of pixel 20 \n",
        "$\n",
        "\\begin{align}\n",
        "X^{11}_{20} \n",
        "\\end{align}\n",
        "$"
      ]
    },
    {
      "cell_type": "code",
      "metadata": {
        "id": "r6oADpegCiwf"
      },
      "source": [
        "# TBD"
      ],
      "execution_count": null,
      "outputs": []
    }
  ]
}