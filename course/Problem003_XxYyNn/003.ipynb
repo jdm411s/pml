{
  "nbformat": 4,
  "nbformat_minor": 0,
  "metadata": {
    "kernelspec": {
      "display_name": "Python 3",
      "language": "python",
      "name": "python3"
    },
    "language_info": {
      "codemirror_mode": {
        "name": "ipython",
        "version": 3
      },
      "file_extension": ".py",
      "mimetype": "text/x-python",
      "name": "python",
      "nbconvert_exporter": "python",
      "pygments_lexer": "ipython3",
      "version": "3.6.5"
    },
    "colab": {
      "name": "003.ipynb",
      "provenance": []
    }
  },
  "cells": [
    {
      "cell_type": "markdown",
      "metadata": {
        "id": "QVMVD14R5tyu"
      },
      "source": [
        "# Load Boston Housing Dataset\n",
        "https://scikit-learn.org/stable/modules/generated/sklearn.datasets.load_boston.html#sklearn.datasets.load_boston"
      ]
    },
    {
      "cell_type": "code",
      "metadata": {
        "scrolled": true,
        "id": "qdNTU1NF5tyv",
        "outputId": "6b3b4fce-ece9-4f15-b2fa-8bcdc1bbeb8f",
        "colab": {
          "base_uri": "https://localhost:8080/",
          "height": 884
        }
      },
      "source": [
        "from sklearn.datasets import load_boston\n",
        "import numpy as np\n",
        "house_data = load_boston()\n",
        "print(house_data['DESCR'])"
      ],
      "execution_count": 2,
      "outputs": [
        {
          "output_type": "stream",
          "text": [
            ".. _boston_dataset:\n",
            "\n",
            "Boston house prices dataset\n",
            "---------------------------\n",
            "\n",
            "**Data Set Characteristics:**  \n",
            "\n",
            "    :Number of Instances: 506 \n",
            "\n",
            "    :Number of Attributes: 13 numeric/categorical predictive. Median Value (attribute 14) is usually the target.\n",
            "\n",
            "    :Attribute Information (in order):\n",
            "        - CRIM     per capita crime rate by town\n",
            "        - ZN       proportion of residential land zoned for lots over 25,000 sq.ft.\n",
            "        - INDUS    proportion of non-retail business acres per town\n",
            "        - CHAS     Charles River dummy variable (= 1 if tract bounds river; 0 otherwise)\n",
            "        - NOX      nitric oxides concentration (parts per 10 million)\n",
            "        - RM       average number of rooms per dwelling\n",
            "        - AGE      proportion of owner-occupied units built prior to 1940\n",
            "        - DIS      weighted distances to five Boston employment centres\n",
            "        - RAD      index of accessibility to radial highways\n",
            "        - TAX      full-value property-tax rate per $10,000\n",
            "        - PTRATIO  pupil-teacher ratio by town\n",
            "        - B        1000(Bk - 0.63)^2 where Bk is the proportion of blacks by town\n",
            "        - LSTAT    % lower status of the population\n",
            "        - MEDV     Median value of owner-occupied homes in $1000's\n",
            "\n",
            "    :Missing Attribute Values: None\n",
            "\n",
            "    :Creator: Harrison, D. and Rubinfeld, D.L.\n",
            "\n",
            "This is a copy of UCI ML housing dataset.\n",
            "https://archive.ics.uci.edu/ml/machine-learning-databases/housing/\n",
            "\n",
            "\n",
            "This dataset was taken from the StatLib library which is maintained at Carnegie Mellon University.\n",
            "\n",
            "The Boston house-price data of Harrison, D. and Rubinfeld, D.L. 'Hedonic\n",
            "prices and the demand for clean air', J. Environ. Economics & Management,\n",
            "vol.5, 81-102, 1978.   Used in Belsley, Kuh & Welsch, 'Regression diagnostics\n",
            "...', Wiley, 1980.   N.B. Various transformations are used in the table on\n",
            "pages 244-261 of the latter.\n",
            "\n",
            "The Boston house-price data has been used in many machine learning papers that address regression\n",
            "problems.   \n",
            "     \n",
            ".. topic:: References\n",
            "\n",
            "   - Belsley, Kuh & Welsch, 'Regression diagnostics: Identifying Influential Data and Sources of Collinearity', Wiley, 1980. 244-261.\n",
            "   - Quinlan,R. (1993). Combining Instance-Based and Model-Based Learning. In Proceedings on the Tenth International Conference of Machine Learning, 236-243, University of Massachusetts, Amherst. Morgan Kaufmann.\n",
            "\n"
          ],
          "name": "stdout"
        }
      ]
    },
    {
      "cell_type": "code",
      "metadata": {
        "id": "npH8Pqqy5tyz",
        "outputId": "2651b3cf-c145-4810-f95b-b714bf473f5e",
        "colab": {
          "base_uri": "https://localhost:8080/",
          "height": 51
        }
      },
      "source": [
        "# How many houses are there (N)\n",
        "N = len(house_data['data'])\n",
        "shape = np.shape(house_data['data'])\n",
        "print(N)\n",
        "print(shape[0])"
      ],
      "execution_count": null,
      "outputs": [
        {
          "output_type": "stream",
          "text": [
            "506\n",
            "506\n"
          ],
          "name": "stdout"
        }
      ]
    },
    {
      "cell_type": "code",
      "metadata": {
        "id": "zwYQhTAs5ty3",
        "outputId": "145bfb2e-e323-4e07-f916-1b5054870558",
        "colab": {
          "base_uri": "https://localhost:8080/",
          "height": 51
        }
      },
      "source": [
        "# A house has how many attributes(or features or signals or dimensions or columns)\n",
        "n = len(house_data['feature_names'])\n",
        "print(n)\n",
        "print(shape[1])\n",
        "# All attributes together make up a row (or input or x)"
      ],
      "execution_count": null,
      "outputs": [
        {
          "output_type": "stream",
          "text": [
            "13\n",
            "13\n"
          ],
          "name": "stdout"
        }
      ]
    },
    {
      "cell_type": "code",
      "metadata": {
        "id": "klwIGh-h5ty6",
        "outputId": "1ad6e886-7bc0-4c58-f975-e3b227306efd",
        "colab": {
          "base_uri": "https://localhost:8080/",
          "height": 34
        }
      },
      "source": [
        "# Whats the Median value of the first house (target or label or output y)\n",
        "print(house_data['target'][0])"
      ],
      "execution_count": null,
      "outputs": [
        {
          "output_type": "stream",
          "text": [
            "24.0\n"
          ],
          "name": "stdout"
        }
      ]
    },
    {
      "cell_type": "code",
      "metadata": {
        "id": "pbD8aDwr5ty9",
        "outputId": "b97a7533-b4d1-457d-d53a-5f5bbb6e111b",
        "colab": {
          "base_uri": "https://localhost:8080/",
          "height": 34
        }
      },
      "source": [
        "# Whats the value of feature RM (average number of rooms per dwelling) for the last house\n",
        "print(house_data['data'][-1][np.where(house_data['feature_names'] == 'RM')[0][0]])"
      ],
      "execution_count": null,
      "outputs": [
        {
          "output_type": "stream",
          "text": [
            "6.03\n"
          ],
          "name": "stdout"
        }
      ]
    },
    {
      "cell_type": "markdown",
      "metadata": {
        "id": "pYhbQuVf5tzA"
      },
      "source": [
        "#### House 8 all features\n",
        "$\n",
        "\\begin{align}\n",
        "X^{8} \n",
        "\\end{align}\n",
        "$\n"
      ]
    },
    {
      "cell_type": "code",
      "metadata": {
        "id": "pxKs-75e5tzA",
        "outputId": "1d859a7c-0d1f-4cd1-907e-e531b0c00ddb",
        "colab": {
          "base_uri": "https://localhost:8080/",
          "height": 68
        }
      },
      "source": [
        "print(house_data['data'][8])"
      ],
      "execution_count": null,
      "outputs": [
        {
          "output_type": "stream",
          "text": [
            "[2.1124e-01 1.2500e+01 7.8700e+00 0.0000e+00 5.2400e-01 5.6310e+00\n",
            " 1.0000e+02 6.0821e+00 5.0000e+00 3.1100e+02 1.5200e+01 3.8663e+02\n",
            " 2.9930e+01]\n"
          ],
          "name": "stdout"
        }
      ]
    },
    {
      "cell_type": "markdown",
      "metadata": {
        "id": "7KQ8xWbt5tzE"
      },
      "source": [
        "#### House 8,  feature 2\n",
        "(INDUS proportion of non-retail business acres per town)\n",
        "\n",
        "$\n",
        "\\begin{align}\n",
        "X_{2}^{8}\n",
        "\\end{align}\n",
        "$\n"
      ]
    },
    {
      "cell_type": "code",
      "metadata": {
        "id": "42pEIcm25tzE",
        "outputId": "b16f384a-561a-40ad-e0d3-d434ce6b7a6f",
        "colab": {
          "base_uri": "https://localhost:8080/",
          "height": 34
        }
      },
      "source": [
        "print(house_data['data'][8][2])"
      ],
      "execution_count": null,
      "outputs": [
        {
          "output_type": "stream",
          "text": [
            "7.87\n"
          ],
          "name": "stdout"
        }
      ]
    },
    {
      "cell_type": "markdown",
      "metadata": {
        "id": "epGzS7125tzI"
      },
      "source": [
        "#### All houses feature 4\n",
        "(NOX nitric oxides concentration)\n",
        "\n",
        "$\n",
        "\\begin{align}\n",
        "X_{4}\n",
        "\\end{align}\n",
        "$\n"
      ]
    },
    {
      "cell_type": "code",
      "metadata": {
        "id": "pKw7YEIH5tzI",
        "outputId": "b677e227-2c64-45bb-9805-2b62572cafec",
        "colab": {
          "base_uri": "https://localhost:8080/",
          "height": 884
        }
      },
      "source": [
        "print(house_data['data'][:,4])"
      ],
      "execution_count": 3,
      "outputs": [
        {
          "output_type": "stream",
          "text": [
            "[0.538  0.469  0.469  0.458  0.458  0.458  0.524  0.524  0.524  0.524\n",
            " 0.524  0.524  0.524  0.538  0.538  0.538  0.538  0.538  0.538  0.538\n",
            " 0.538  0.538  0.538  0.538  0.538  0.538  0.538  0.538  0.538  0.538\n",
            " 0.538  0.538  0.538  0.538  0.538  0.499  0.499  0.499  0.499  0.428\n",
            " 0.428  0.448  0.448  0.448  0.448  0.448  0.448  0.448  0.448  0.448\n",
            " 0.439  0.439  0.439  0.439  0.41   0.403  0.41   0.411  0.453  0.453\n",
            " 0.453  0.453  0.453  0.453  0.4161 0.398  0.398  0.409  0.409  0.409\n",
            " 0.413  0.413  0.413  0.413  0.437  0.437  0.437  0.437  0.437  0.437\n",
            " 0.426  0.426  0.426  0.426  0.449  0.449  0.449  0.449  0.489  0.489\n",
            " 0.489  0.489  0.464  0.464  0.464  0.445  0.445  0.445  0.445  0.445\n",
            " 0.52   0.52   0.52   0.52   0.52   0.52   0.52   0.52   0.52   0.52\n",
            " 0.52   0.547  0.547  0.547  0.547  0.547  0.547  0.547  0.547  0.547\n",
            " 0.581  0.581  0.581  0.581  0.581  0.581  0.581  0.624  0.624  0.624\n",
            " 0.624  0.624  0.624  0.624  0.624  0.624  0.624  0.624  0.624  0.624\n",
            " 0.624  0.624  0.871  0.871  0.871  0.871  0.871  0.871  0.871  0.871\n",
            " 0.871  0.871  0.871  0.871  0.871  0.871  0.871  0.605  0.605  0.871\n",
            " 0.605  0.605  0.605  0.605  0.605  0.605  0.605  0.605  0.605  0.605\n",
            " 0.605  0.605  0.51   0.51   0.51   0.51   0.51   0.51   0.51   0.488\n",
            " 0.488  0.488  0.488  0.488  0.488  0.488  0.488  0.437  0.437  0.437\n",
            " 0.437  0.437  0.437  0.401  0.401  0.422  0.404  0.404  0.404  0.403\n",
            " 0.403  0.415  0.415  0.4161 0.4161 0.489  0.489  0.489  0.489  0.489\n",
            " 0.489  0.489  0.489  0.489  0.489  0.489  0.55   0.55   0.55   0.55\n",
            " 0.507  0.507  0.507  0.507  0.504  0.504  0.504  0.504  0.504  0.504\n",
            " 0.504  0.504  0.507  0.507  0.507  0.507  0.507  0.507  0.428  0.428\n",
            " 0.428  0.428  0.428  0.428  0.431  0.431  0.431  0.431  0.431  0.431\n",
            " 0.431  0.431  0.431  0.431  0.392  0.392  0.394  0.647  0.647  0.647\n",
            " 0.647  0.647  0.647  0.647  0.647  0.647  0.647  0.575  0.575  0.464\n",
            " 0.464  0.464  0.464  0.464  0.447  0.447  0.447  0.447  0.447  0.4429\n",
            " 0.4429 0.4429 0.4429 0.401  0.4    0.389  0.385  0.405  0.405  0.405\n",
            " 0.411  0.411  0.411  0.437  0.437  0.437  0.437  0.437  0.4    0.4\n",
            " 0.4    0.433  0.433  0.433  0.472  0.472  0.472  0.472  0.544  0.544\n",
            " 0.544  0.544  0.544  0.544  0.544  0.544  0.544  0.544  0.544  0.544\n",
            " 0.493  0.493  0.493  0.493  0.493  0.493  0.493  0.493  0.46   0.46\n",
            " 0.46   0.4379 0.4379 0.515  0.515  0.515  0.515  0.515  0.515  0.515\n",
            " 0.515  0.442  0.518  0.484  0.484  0.442  0.442  0.429  0.435  0.429\n",
            " 0.429  0.411  0.411  0.41   0.413  0.413  0.77   0.77   0.77   0.77\n",
            " 0.77   0.77   0.77   0.77   0.718  0.718  0.718  0.631  0.631  0.631\n",
            " 0.631  0.631  0.668  0.668  0.668  0.671  0.671  0.671  0.671  0.671\n",
            " 0.671  0.671  0.7    0.7    0.7    0.7    0.7    0.7    0.7    0.7\n",
            " 0.7    0.7    0.7    0.693  0.693  0.693  0.693  0.693  0.693  0.693\n",
            " 0.693  0.693  0.693  0.693  0.693  0.693  0.659  0.659  0.597  0.597\n",
            " 0.597  0.597  0.597  0.597  0.693  0.679  0.679  0.679  0.679  0.718\n",
            " 0.718  0.718  0.614  0.614  0.584  0.679  0.584  0.679  0.679  0.679\n",
            " 0.584  0.584  0.584  0.713  0.713  0.74   0.74   0.74   0.74   0.74\n",
            " 0.74   0.74   0.74   0.74   0.74   0.74   0.74   0.74   0.713  0.713\n",
            " 0.713  0.713  0.713  0.713  0.713  0.713  0.713  0.713  0.713  0.713\n",
            " 0.713  0.713  0.713  0.713  0.655  0.655  0.655  0.584  0.58   0.58\n",
            " 0.58   0.532  0.58   0.614  0.584  0.584  0.614  0.614  0.614  0.614\n",
            " 0.532  0.532  0.532  0.532  0.583  0.583  0.583  0.583  0.609  0.609\n",
            " 0.609  0.609  0.609  0.585  0.585  0.585  0.585  0.585  0.585  0.585\n",
            " 0.585  0.573  0.573  0.573  0.573  0.573 ]\n"
          ],
          "name": "stdout"
        }
      ]
    },
    {
      "cell_type": "markdown",
      "metadata": {
        "id": "xh3Ycfa55tzL"
      },
      "source": [
        "#### Target value for house 4\n",
        "$\n",
        "Y^{4}\n",
        "$\n"
      ]
    },
    {
      "cell_type": "code",
      "metadata": {
        "id": "hw9eb-mF5tzM",
        "outputId": "1ffdae27-044d-41eb-87fc-7c6e4760e137",
        "colab": {
          "base_uri": "https://localhost:8080/",
          "height": 34
        }
      },
      "source": [
        "house_data['target'][4]"
      ],
      "execution_count": null,
      "outputs": [
        {
          "output_type": "execute_result",
          "data": {
            "text/plain": [
              "36.2"
            ]
          },
          "metadata": {
            "tags": []
          },
          "execution_count": 55
        }
      ]
    },
    {
      "cell_type": "markdown",
      "metadata": {
        "id": "mCAGFzuH5tzO"
      },
      "source": [
        "Small *x* and *y* are used to represent a *feature* and *target* of a single house\n",
        "#### Which among the following could be valid representation?\n",
        "$\n",
        "x^{4}\\:, \\: x_{2}\\:,\\:y^{4}\\:,\\:y_{2}\n",
        "$\n",
        "\n"
      ]
    },
    {
      "cell_type": "code",
      "metadata": {
        "id": "GEXDndGG5tzP"
      },
      "source": [
        "x2"
      ],
      "execution_count": null,
      "outputs": []
    }
  ]
}