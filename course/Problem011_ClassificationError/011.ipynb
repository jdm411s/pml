{
  "nbformat": 4,
  "nbformat_minor": 0,
  "metadata": {
    "kernelspec": {
      "display_name": "Python 3",
      "language": "python",
      "name": "python3"
    },
    "language_info": {
      "codemirror_mode": {
        "name": "ipython",
        "version": 3
      },
      "file_extension": ".py",
      "mimetype": "text/x-python",
      "name": "python",
      "nbconvert_exporter": "python",
      "pygments_lexer": "ipython3",
      "version": "3.8.2-final"
    },
    "colab": {
      "name": "011.ipynb",
      "provenance": []
    }
  },
  "cells": [
    {
      "cell_type": "markdown",
      "metadata": {
        "scrolled": true,
        "id": "ihJh23VOJSDl"
      },
      "source": [
        "## Categorical cross entropy error\n",
        "\n",
        "$\n",
        "J = - \\frac{1}{N} \\sum\\limits_{i = 0}^{N} \\large{(} \\small y^{(i)}\\log\\left(\\hat{y}^{(i)}\\right) + (1-y^{(i)})\\log\\left(1- \\hat{y}^{(i)}\\right) \\large{)}\n",
        "$"
      ]
    },
    {
      "cell_type": "code",
      "metadata": {
        "id": "7ZaF12wYJSDn"
      },
      "source": [
        "import numpy as np\n",
        "Y = np.array([1, 0, 0, 0, 1, 1, 0])\n",
        "\n",
        "# Follwing are the corrosponding Y_hat values from 3 classification models\n",
        "# TBD: Arrange the models from best to worst.\n",
        "Y_hat1 = np.array([0.99, 0.01, 0.01, 0.01, 0.99, 0.99, 0.01])\n",
        "Y_hat3 = np.array([0.99, 0.01, 0.01, 0.99, 0.99, 0.01, 0.01])\n",
        "Y_hat4 = np.array([0.99, 0.01, 0.01, 0.99, 0.99, 0.01, 0.99])\n",
        "Y_hat2 = np.array([0.01, 0.99, 0.99, 0.99, 0.01, 0.01, 0.99])\n",
        "\n"
      ],
      "execution_count": 1,
      "outputs": []
    },
    {
      "cell_type": "code",
      "metadata": {
        "id": "-mAkV8TbJSDz",
        "outputId": "752fe2c0-ce83-4340-c0f4-d54cc3fbf84f",
        "colab": {
          "base_uri": "https://localhost:8080/"
        }
      },
      "source": [
        "#TBD For above Y and Y_hat values compute categorical cross entropy error using sklearn library function\n",
        "from sklearn.metrics import log_loss\n",
        "print(log_loss(Y, Y_hat1))\n",
        "print(log_loss(Y, Y_hat2))\n",
        "print(log_loss(Y, Y_hat3))\n",
        "print(log_loss(Y, Y_hat4))\n",
        "\n",
        "\n",
        "-log(0.99)"
      ],
      "execution_count": 2,
      "outputs": [
        {
          "output_type": "stream",
          "text": [
            "0.010050335853501449\n",
            "4.605170185988091\n",
            "1.3229417216062413\n",
            "1.9793874144826111\n"
          ],
          "name": "stdout"
        }
      ]
    },
    {
      "cell_type": "markdown",
      "metadata": {
        "id": "PIx2HqY9HOd1"
      },
      "source": [
        "https://machinelearningmastery.com/cross-entropy-for-machine-learning/"
      ]
    },
    {
      "cell_type": "code",
      "metadata": {
        "id": "nHIL8YysLKmr",
        "outputId": "e0bf1bf4-00fb-4d31-a9b5-cfdf3e011a64",
        "colab": {
          "base_uri": "https://localhost:8080/"
        }
      },
      "source": [
        "# calculate cross entropy for classification problem\n",
        "from math import log\n",
        "from numpy import mean\n",
        " \n",
        "# calculate cross entropy\n",
        "def cross_entropy(p, q):\n",
        "\treturn -sum([p[i]*log(q[i]) for i in range(len(p))])\n",
        " \n",
        "# define classification data\n",
        "p = Y\n",
        "q = Y_hat2\n",
        "# calculate cross entropy for each example\n",
        "results = list()\n",
        "for i in range(len(p)):\n",
        "\t# create the distribution for each event {0, 1}\n",
        "\texpected = [1.0 - p[i], p[i]]\n",
        "\tpredicted = [1.0 - q[i], q[i]]\n",
        "\t# calculate cross entropy for the two events\n",
        "\tce = cross_entropy(expected, predicted)\n",
        "\tprint('>[y=%.1f, yhat=%.1f] ce: %.3f nats' % (p[i], q[i], ce))\n",
        "\tresults.append(ce)\n",
        " \n",
        "# calculate the average cross entropy\n",
        "mean_ce = mean(results)\n",
        "print('Average Cross Entropy: %.3f nats' % mean_ce)"
      ],
      "execution_count": 4,
      "outputs": [
        {
          "output_type": "stream",
          "text": [
            ">[y=1.0, yhat=0.0] ce: 4.605 nats\n",
            ">[y=0.0, yhat=1.0] ce: 4.605 nats\n",
            ">[y=0.0, yhat=1.0] ce: 4.605 nats\n",
            ">[y=0.0, yhat=1.0] ce: 4.605 nats\n",
            ">[y=1.0, yhat=0.0] ce: 4.605 nats\n",
            ">[y=1.0, yhat=0.0] ce: 4.605 nats\n",
            ">[y=0.0, yhat=1.0] ce: 4.605 nats\n",
            "Average Cross Entropy: 4.605 nats\n"
          ],
          "name": "stdout"
        }
      ]
    },
    {
      "cell_type": "code",
      "metadata": {
        "id": "2DZjfjPZGsK8"
      },
      "source": [
        ""
      ],
      "execution_count": null,
      "outputs": []
    }
  ]
}