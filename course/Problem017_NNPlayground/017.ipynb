{
  "nbformat": 4,
  "nbformat_minor": 0,
  "metadata": {
    "kernelspec": {
      "display_name": "Python 3",
      "language": "python",
      "name": "python3"
    },
    "language_info": {
      "codemirror_mode": {
        "name": "ipython",
        "version": 3
      },
      "file_extension": ".py",
      "mimetype": "text/x-python",
      "name": "python",
      "nbconvert_exporter": "python",
      "pygments_lexer": "ipython3",
      "version": "3.8.2-final"
    },
    "colab": {
      "name": "017.ipynb",
      "provenance": []
    }
  },
  "cells": [
    {
      "cell_type": "markdown",
      "metadata": {
        "id": "-js8Hm6aN2js"
      },
      "source": [
        ""
      ]
    },
    {
      "cell_type": "markdown",
      "metadata": {
        "id": "nEByPx6AN2jt"
      },
      "source": [
        "## Visit [Neural Network Playground](https://playground.tensorflow.org)"
      ]
    },
    {
      "cell_type": "markdown",
      "metadata": {
        "id": "DwW6hgmpN2ju"
      },
      "source": [
        "## TBD: In the above site, how many of the following terms do you understand? (Arranged in order from simple to complex)\n",
        "\n",
        "### \n",
        "Data\n",
        "Features\n",
        "Test Data\n",
        "Ratio of training to test data\n",
        "Output\n",
        "Problem type\n",
        "Layers\n",
        "Batch size\n",
        "Weights\n",
        "Learning Rate\n",
        "Test Loss\n",
        "Training Loss\n",
        "Weights\n",
        "Neuron\n",
        "Activation\n",
        "Colors in various context \n",
        "Epoch\n",
        "Regularization\n",
        "Regularization Rate"
      ]
    },
    {
      "cell_type": "markdown",
      "metadata": {
        "id": "fvzINLuKN2jv"
      },
      "source": [
        "## TBD Your lowest Test Loss on Classification Problems\n",
        "\n",
        "a) Circle\n",
        "LR 0.03\n",
        "Features X1, X2, X12, X22\n",
        "2 hidden layers, 3 neurons each\n",
        "Activation Tanh\n",
        "Regularization: None\n",
        "Reg Rate 0\n",
        "Test Loss 0.001 in 258 epoch\n",
        "\n",
        "b) Exclusive or\n",
        "\n",
        "c) Guassian\n",
        "\n",
        "d) Spiral "
      ]
    },
    {
      "cell_type": "markdown",
      "metadata": {
        "id": "L0G9tk2iN2jw"
      },
      "source": [
        "## TBD Your lowest Test Loss on Regression Problems\n",
        "\n",
        "a) Plane\n",
        "\n",
        "b) Multi Guassian\n",
        "\n"
      ]
    },
    {
      "cell_type": "markdown",
      "metadata": {
        "id": "9uRPP7nMN2jx"
      },
      "source": [
        "## TBD Feature Engineering\n",
        "\n",
        "a) On classification problem for Circles dataset, beat or match your lowest test score without using any hidden layer\n",
        "\n",
        "\n",
        "\n"
      ]
    },
    {
      "cell_type": "code",
      "metadata": {
        "id": "1Wz9vn5ON2jy"
      },
      "source": [
        ""
      ],
      "execution_count": null,
      "outputs": []
    }
  ]
}