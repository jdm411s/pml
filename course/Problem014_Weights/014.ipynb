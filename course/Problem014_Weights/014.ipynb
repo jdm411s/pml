{
  "nbformat": 4,
  "nbformat_minor": 0,
  "metadata": {
    "kernelspec": {
      "name": "Python 3.8.2 64-bit ('pml')",
      "display_name": "Python 3.8.2 64-bit ('pml')",
      "metadata": {
        "interpreter": {
          "hash": "a4c9474aacc61cf72d0f1c29f4a339e5d6b2171c287541cfd684cf058783219b"
        }
      }
    },
    "language_info": {
      "codemirror_mode": {
        "name": "ipython",
        "version": 3
      },
      "file_extension": ".py",
      "mimetype": "text/x-python",
      "name": "python",
      "nbconvert_exporter": "python",
      "pygments_lexer": "ipython3",
      "version": "3.8.2-final"
    },
    "colab": {
      "name": "014.ipynb",
      "provenance": []
    }
  },
  "cells": [
    {
      "cell_type": "markdown",
      "metadata": {
        "scrolled": true,
        "id": "2SNgxRZuMN38"
      },
      "source": [
        "## Weights or Coeffecients or Strength of Connection etc"
      ]
    },
    {
      "cell_type": "code",
      "metadata": {
        "id": "wR8htNDhMN39",
        "outputId": "a557e09b-21f4-44a0-b087-036c85b05bce",
        "colab": {
          "base_uri": "https://localhost:8080/"
        }
      },
      "source": [
        "#TBD Load boston dataset\n",
        "from sklearn.datasets import load_boston\n",
        "house_data = load_boston()\n",
        "X = house_data['data']\n",
        "Y = house_data['target']\n",
        "\n",
        "#TBD Split into Train and Test dataset. random 90% 10%\n",
        "from sklearn.model_selection import train_test_split\n",
        "X_train, X_test, Y_train, Y_test = train_test_split(X, Y, test_size=0.10, \n",
        "                                                    random_state=54)\n",
        "\n",
        "#TBD Fit linear model on Training data\n",
        "from sklearn import linear_model\n",
        "model = linear_model.LinearRegression()\n",
        "model.fit(X_train, Y_train)\n",
        "\n",
        "#TBD From the model get the weights\n",
        "weights = model.coef_\n",
        "weights"
      ],
      "execution_count": 7,
      "outputs": [
        {
          "output_type": "execute_result",
          "data": {
            "text/plain": [
              "array([-1.14812316e-01,  3.96811648e-02,  5.84816244e-02,  2.67261766e+00,\n",
              "       -1.83540352e+01,  4.12462026e+00,  1.71673487e-03, -1.41813022e+00,\n",
              "        2.96903066e-01, -1.18030358e-02, -9.23974873e-01,  1.06457946e-02,\n",
              "       -5.75186718e-01])"
            ]
          },
          "metadata": {
            "tags": []
          },
          "execution_count": 7
        }
      ]
    },
    {
      "cell_type": "markdown",
      "metadata": {
        "id": "OtUKP3piMN39"
      },
      "source": [
        "## A special weight:  Bias or Intercept"
      ]
    },
    {
      "cell_type": "code",
      "metadata": {
        "id": "M0YxAF42MN39",
        "outputId": "fdf4c9a0-c15f-461f-bd84-de54238468d6",
        "colab": {
          "base_uri": "https://localhost:8080/"
        }
      },
      "source": [
        "# TBD: From above model get the Bias term\n",
        "bias = model.intercept_\n",
        "bias"
      ],
      "execution_count": 8,
      "outputs": [
        {
          "output_type": "execute_result",
          "data": {
            "text/plain": [
              "33.596426589945345"
            ]
          },
          "metadata": {
            "tags": []
          },
          "execution_count": 8
        }
      ]
    },
    {
      "cell_type": "code",
      "metadata": {
        "id": "ZPGkytytMN39",
        "outputId": "3dc26c4f-f552-4836-9e74-9e554ca318c1",
        "colab": {
          "base_uri": "https://localhost:8080/"
        }
      },
      "source": [
        "# TBD: Using weights and bias to simulate above model predict for training data Y_hat1\n",
        "# TBD: Using model.predict predict for training data Y_hat2\n",
        "# TBD: Mean squared error for Y_hat1, Y_hat2 (They must be very close, nearly equal)\n",
        "\n",
        "import numpy as np\n",
        "from sklearn.metrics import mean_squared_error\n",
        "\n",
        "Y_hat_simulated = np.dot(X_test, weights) + bias\n",
        "\n",
        "# TBD: Using model.predict predict for training data Y_hat2\n",
        "Y_hat = model.predict(X_test)\n",
        "\n",
        "mse = mean_squared_error(Y_hat, Y_hat_simulated)\n",
        "print(mse)\n"
      ],
      "execution_count": 9,
      "outputs": [
        {
          "output_type": "stream",
          "text": [
            "0.0\n"
          ],
          "name": "stdout"
        }
      ]
    }
  ]
}