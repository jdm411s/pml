{
 "cells": [
  {
   "source": [
    "## Objective of ML Models: To work well on unseen data (i.e. to Generalize Well)"
   ],
   "cell_type": "markdown",
   "metadata": {}
  },
  {
   "source": [
    "## When do models dont generalize well?\n",
    "### Underfitting (High Bias)\n",
    "### Overfitting (High Variance)"
   ],
   "cell_type": "markdown",
   "metadata": {}
  },
  {
   "source": [
    "## Bias (overloaded term)\n",
    "### Bias as in bias and fairness e.g. ML algorithm is biased against minorities\n",
    "### Bias as in bias term (intercept) e.g. Bias terms can be initialized to 0\n",
    "### Bias as in high bias (underfitting) e.g. Linear regression is prone to high bias"
   ],
   "cell_type": "markdown",
   "metadata": {}
  },
  {
   "source": [
    "## Variance\n",
    "> \"If you torture data long enough, it will confess\"\n",
    "\n",
    "Tackling High variance (Overfitting)\n",
    "\n",
    "Regularization (penalizing complexity)\n",
    "* L1\n",
    "* L2\n"
   ],
   "cell_type": "markdown",
   "metadata": {}
  },
  {
   "cell_type": "markdown",
   "metadata": {
    "pycharm": {
     "name": "#%% md\n"
    }
   },
   "source": [
    "## TBD Given the following train and test metrics, label their bias and variance e.g High/Low Bias, High/Low Variance\n",
    "Optimal Error: Unavoidable error, i.e error achieved in state of the art best case, when not specified assume optimal error rate = 0%\n",
    "\n",
    "* Training Error 20%, Validation error 21%\n",
    "* Training Error 1%, Validation error 10%\n",
    "* Training Error 1%, Validation error 2%\n",
    "* Optimal Error 12%, Training Error 13%, Validation error 14%\n",
    "* Optimal Error 12%, Training Error 24%, Validation error 35%\n",
    "* Optimal Error 12%, Training Error 24%, Validation error 25%"
   ]
  },
  {
   "cell_type": "code",
   "execution_count": 0,
   "metadata": {},
   "outputs": [],
   "source": []
  }
 ],
 "metadata": {
  "kernelspec": {
   "display_name": "Python 3",
   "language": "python",
   "name": "python3"
  },
  "language_info": {
   "codemirror_mode": {
    "name": "ipython",
    "version": 3
   },
   "file_extension": ".py",
   "mimetype": "text/x-python",
   "name": "python",
   "nbconvert_exporter": "python",
   "pygments_lexer": "ipython3",
   "version": "3.8.2-final"
  }
 },
 "nbformat": 4,
 "nbformat_minor": 2
}