{
  "nbformat": 4,
  "nbformat_minor": 0,
  "metadata": {
    "kernelspec": {
      "display_name": "Python 3",
      "language": "python",
      "name": "python3"
    },
    "language_info": {
      "codemirror_mode": {
        "name": "ipython",
        "version": 3
      },
      "file_extension": ".py",
      "mimetype": "text/x-python",
      "name": "python",
      "nbconvert_exporter": "python",
      "pygments_lexer": "ipython3",
      "version": "3.8.2-final"
    },
    "colab": {
      "name": "028.ipynb",
      "provenance": []
    }
  },
  "cells": [
    {
      "cell_type": "markdown",
      "metadata": {
        "id": "NUfXLSUsiMCz"
      },
      "source": [
        "## Titanic Datset\n",
        "## Predict passenger's survival in titanic accident, given the passenger attributes."
      ]
    },
    {
      "cell_type": "code",
      "metadata": {
        "pycharm": {
          "name": "#%%\n"
        },
        "id": "1pRwzmYAiMC5",
        "outputId": "d995adbe-f366-4003-ea5a-41855fcd6c49",
        "colab": {
          "base_uri": "https://localhost:8080/"
        }
      },
      "source": [
        "from sklearn.datasets import fetch_openml\n",
        "d  = fetch_openml(name=\"Titanic\", as_frame=True, version=1)\n",
        "df = d[\"frame\"]\n",
        "print(d['DESCR'])\n",
        "# df.head(5)"
      ],
      "execution_count": 1,
      "outputs": [
        {
          "output_type": "stream",
          "text": [
            "**Author**: Frank E. Harrell Jr., Thomas Cason  \n",
            "**Source**: [Vanderbilt Biostatistics](http://biostat.mc.vanderbilt.edu/wiki/pub/Main/DataSets/titanic.html)  \n",
            "**Please cite**:   \n",
            "\n",
            "The original Titanic dataset, describing the survival status of individual passengers on the Titanic. The titanic data does not contain information from the crew, but it does contain actual ages of half of the passengers. The principal source for data about Titanic passengers is the Encyclopedia Titanica. The datasets used here were begun by a variety of researchers. One of the original sources is Eaton & Haas (1994) Titanic: Triumph and Tragedy, Patrick Stephens Ltd, which includes a passenger list created by many researchers and edited by Michael A. Findlay.\n",
            "\n",
            "Thomas Cason of UVa has greatly updated and improved the titanic data frame using the Encyclopedia Titanica and created the dataset here. Some duplicate passengers have been dropped, many errors corrected, many missing ages filled in, and new variables created. \n",
            "\n",
            "For more information about how this dataset was constructed:\n",
            "http://biostat.mc.vanderbilt.edu/wiki/pub/Main/DataSets/titanic3info.txt\n",
            "\n",
            "\n",
            "### Attribute information  \n",
            "\n",
            "The variables on our extracted dataset are pclass, survived, name, age, embarked, home.dest, room, ticket, boat, and sex. pclass refers to passenger class (1st, 2nd, 3rd), and is a proxy for socio-economic class. Age is in years, and some infants had fractional values. The titanic2 data frame has no missing data and includes records for the crew, but age is dichotomized at adult vs. child. These data were obtained from Robert Dawson, Saint Mary's University, E-mail. The variables are pclass, age, sex, survived. These data frames are useful for demonstrating many of the functions in Hmisc as well as demonstrating binary logistic regression analysis using the Design library. For more details and references see Simonoff, Jeffrey S (1997): The \"unusual episode\" and a second statistics course. J Statistics Education, Vol. 5 No. 1.\n",
            "\n",
            "Downloaded from openml.org.\n"
          ],
          "name": "stdout"
        }
      ]
    },
    {
      "cell_type": "markdown",
      "metadata": {
        "id": "u2dDRWY-iMC5"
      },
      "source": [
        "Features description\n",
        "\n",
        "* pclass    Class (1 = First, 2 = Second, 3 = Third)\n",
        "* survived  (0 = died, 1 = survived)\n",
        "* name\n",
        "* sex\n",
        "* age\n",
        "* sibsp (Number of siblings/spouses on board)\n",
        "* parch (Number of parents/children on board)\n",
        "* ticket (Ticket Number)\n",
        "* fare  (Price of the ticket)\n",
        "* cabin (Cabin Number)\n",
        "* embarked (Place where passeneger embarked C = Cherbourg; Q = Queenstown; S = Southampton)\n",
        "* boat (Lifeboat ID if passenger was rescued)\n",
        "* body (Body ID if passenger died and body was recovered)\n",
        "* home.dest (Passenger Hometown)\n",
        "\n",
        "Types of features \n",
        "* Categorical (Number or Text)\n",
        "    * Ordinal\n",
        "    * Nominal\n",
        "* Numerical\n",
        "* Text\n",
        "    \n",
        "TBD: What is the type for following features. (choose from above)\n",
        "* name\n",
        "* sex\n",
        "* age\n",
        "* ticket\n",
        "* embarked (port of embarkment)\n",
        "* survived\n",
        "* parch (number of parents/children aboard)\n",
        "\n"
      ]
    },
    {
      "cell_type": "code",
      "metadata": {
        "pycharm": {
          "name": "#%%\n"
        },
        "id": "xYZYvE-uiMC6",
        "outputId": "5375a4d3-97d2-4974-9453-2f385af43c9a",
        "colab": {
          "base_uri": "https://localhost:8080/"
        }
      },
      "source": [
        "# Missing Data\n",
        "## TBD Which features in Titanic dataset have missing data\n",
        "df.info()"
      ],
      "execution_count": 2,
      "outputs": [
        {
          "output_type": "stream",
          "text": [
            "<class 'pandas.core.frame.DataFrame'>\n",
            "RangeIndex: 1309 entries, 0 to 1308\n",
            "Data columns (total 14 columns):\n",
            " #   Column     Non-Null Count  Dtype   \n",
            "---  ------     --------------  -----   \n",
            " 0   pclass     1309 non-null   float64 \n",
            " 1   survived   1309 non-null   category\n",
            " 2   name       1309 non-null   object  \n",
            " 3   sex        1309 non-null   category\n",
            " 4   age        1046 non-null   float64 \n",
            " 5   sibsp      1309 non-null   float64 \n",
            " 6   parch      1309 non-null   float64 \n",
            " 7   ticket     1309 non-null   object  \n",
            " 8   fare       1308 non-null   float64 \n",
            " 9   cabin      295 non-null    object  \n",
            " 10  embarked   1307 non-null   category\n",
            " 11  boat       486 non-null    object  \n",
            " 12  body       121 non-null    float64 \n",
            " 13  home.dest  745 non-null    object  \n",
            "dtypes: category(3), float64(6), object(5)\n",
            "memory usage: 116.7+ KB\n"
          ],
          "name": "stdout"
        }
      ]
    },
    {
      "cell_type": "markdown",
      "metadata": {
        "id": "GnYViLeSiMC7"
      },
      "source": [
        "## ML Ready: Is data ready to be fed to a classification problem?\n",
        "## TBD: What are 3 main issues that needs to be resolved in data?"
      ]
    },
    {
      "cell_type": "code",
      "metadata": {
        "id": "ZaFxcbE3iMC7",
        "outputId": "3508fb09-158b-45c0-db3b-a57c83200ca4",
        "colab": {
          "base_uri": "https://localhost:8080/"
        }
      },
      "source": [
        "import pandas as pd\n",
        "\n",
        "def cleaner(df):\n",
        "  for col_name in df.columns:    \n",
        "      if df[col_name].dtype.name == 'category': \n",
        "        # Convert categorical types\n",
        "        df[col_name] = df[col_name].cat.codes\n",
        "      if df[col_name].dtype.name == 'object':\n",
        "        df = df.drop(columns=[col_name])\n",
        "  return df\n",
        "\n",
        "def titanic_cleaner(df):\n",
        "    df = df.drop(columns = ['body']) \n",
        "    return df.dropna()\n",
        "\n",
        "#TBD Using above 2 naive cleaner functions clean the titanic dataframe \n",
        "df = titanic_cleaner(cleaner(df))\n",
        "df.info()"
      ],
      "execution_count": 3,
      "outputs": [
        {
          "output_type": "stream",
          "text": [
            "<class 'pandas.core.frame.DataFrame'>\n",
            "Int64Index: 1045 entries, 0 to 1308\n",
            "Data columns (total 8 columns):\n",
            " #   Column    Non-Null Count  Dtype  \n",
            "---  ------    --------------  -----  \n",
            " 0   pclass    1045 non-null   float64\n",
            " 1   survived  1045 non-null   int8   \n",
            " 2   sex       1045 non-null   int8   \n",
            " 3   age       1045 non-null   float64\n",
            " 4   sibsp     1045 non-null   float64\n",
            " 5   parch     1045 non-null   float64\n",
            " 6   fare      1045 non-null   float64\n",
            " 7   embarked  1045 non-null   int8   \n",
            "dtypes: float64(5), int8(3)\n",
            "memory usage: 52.0 KB\n"
          ],
          "name": "stdout"
        }
      ]
    },
    {
      "cell_type": "markdown",
      "metadata": {
        "id": "2lzBzhxeiMC7"
      },
      "source": [
        "## TBD Split the data into train test (test_size=0.25, random_state=101)"
      ]
    },
    {
      "cell_type": "code",
      "metadata": {
        "id": "eZNKZ5tfiMC8"
      },
      "source": [
        "from sklearn.model_selection import train_test_split\n",
        "Y = df['survived']\n",
        "X = df.drop('survived', axis=1)\n",
        "\n",
        "X_train, X_test, Y_train, Y_test = train_test_split(X, Y, test_size=0.25, random_state=101)"
      ],
      "execution_count": 6,
      "outputs": []
    },
    {
      "cell_type": "markdown",
      "metadata": {
        "id": "5HxT42VTiMC8"
      },
      "source": [
        "## TBD Apply Logistic Regression "
      ]
    },
    {
      "cell_type": "code",
      "metadata": {
        "id": "8eUM3JuDiMC8",
        "outputId": "eafe1623-11a4-4de8-abef-8cccb8ff0768",
        "colab": {
          "base_uri": "https://localhost:8080/"
        }
      },
      "source": [
        "from sklearn.model_selection import train_test_split\n",
        "from sklearn.linear_model import LogisticRegression\n",
        "from sklearn.neighbors import KNeighborsClassifier\n",
        "from sklearn.tree import DecisionTreeClassifier\n",
        "from sklearn.ensemble import RandomForestClassifier\n",
        "from sklearn.ensemble import GradientBoostingClassifier\n",
        "from sklearn.metrics import accuracy_score\n",
        "\n",
        "#model = LogisticRegression()\n",
        "#model = KNeighborsClassifier()\n",
        "model = DecisionTreeClassifier()\n",
        "#model = RandomForestClassifier()\n",
        "#model = GradientBoostingClassifier()\n",
        "model.fit(X_train, Y_train)\n",
        "\n",
        "Y_hat = model.predict(X_test)\n",
        "\n",
        "#TBD Accuracy Score on test set\n",
        "accuracy_score(Y_test, Y_hat)\n",
        "\n",
        "\n"
      ],
      "execution_count": 27,
      "outputs": [
        {
          "output_type": "execute_result",
          "data": {
            "text/plain": [
              "0.767175572519084"
            ]
          },
          "metadata": {
            "tags": []
          },
          "execution_count": 27
        }
      ]
    },
    {
      "cell_type": "markdown",
      "metadata": {
        "collapsed": false,
        "pycharm": {
          "name": "#%% md\n"
        },
        "id": "x2L-Ty8diMC8"
      },
      "source": [
        "## What are the top 3 most important features for predicting survival?\n"
      ]
    },
    {
      "cell_type": "code",
      "metadata": {
        "id": "KmnWdMy4n3b2",
        "outputId": "fe33366d-dd53-4e8b-f0ad-7d4bfba96f0b",
        "colab": {
          "base_uri": "https://localhost:8080/",
          "height": 286
        }
      },
      "source": [
        "import numpy as np\n",
        "from matplotlib import pyplot\n",
        "\n",
        "#np.around(model.coef_, decimals=2)\n",
        "\n",
        "imp = model.feature_importances_\n",
        "df.columns\n",
        "\n",
        "#pyplot.bar(X.columns, model.coef_.reshape(-1,))\n",
        "pyplot.bar(X.columns, imp)"
      ],
      "execution_count": 28,
      "outputs": [
        {
          "output_type": "execute_result",
          "data": {
            "text/plain": [
              "<BarContainer object of 7 artists>"
            ]
          },
          "metadata": {
            "tags": []
          },
          "execution_count": 28
        },
        {
          "output_type": "display_data",
          "data": {
            "image/png": "[encoded data removed]",
            "text/plain": [
              "<Figure size 432x288 with 1 Axes>"
            ]
          },
          "metadata": {
            "tags": [],
            "needs_background": "light"
          }
        }
      ]
    },
    {
      "cell_type": "code",
      "metadata": {
        "id": "tRqApCxsoCPs"
      },
      "source": [
        ""
      ],
      "execution_count": null,
      "outputs": []
    }
  ]
}