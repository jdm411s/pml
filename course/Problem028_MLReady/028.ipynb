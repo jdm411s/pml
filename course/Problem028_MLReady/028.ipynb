{
 "cells": [
  {
   "source": [
    "## Titanic Datset\n",
    "## Predict passenger's survival in titanic accident, given the passenger attributes."
   ],
   "cell_type": "markdown",
   "metadata": {}
  },
  {
   "cell_type": "code",
   "execution_count": null,
   "metadata": {
    "pycharm": {
     "name": "#%%\n"
    }
   },
   "outputs": [],
   "source": [
    "from sklearn.datasets import fetch_openml\n",
    "d  = fetch_openml(name=\"Titanic\", as_frame=True, version=1)\n",
    "df = d[\"frame\"]\n",
    "print(d['DESCR'])\n",
    "# df.head(5)"
   ]
  },
  {
   "source": [
    "Features description\n",
    "\n",
    "* pclass    Class (1 = First, 2 = Second, 3 = Third)\n",
    "* survived  (0 = died, 1 = survived)\n",
    "* name\n",
    "* sex\n",
    "* age\n",
    "* sibsp (Number of siblings/spouses on board)\n",
    "* parch (Number of parents/children on board)\n",
    "* ticket (Ticket Number)\n",
    "* fare  (Price of the ticket)\n",
    "* cabin (Cabin Number)\n",
    "* embarked (Place where passeneger embarked C = Cherbourg; Q = Queenstown; S = Southampton)\n",
    "* boat (Lifeboat ID if passenger was rescued)\n",
    "* body (Body ID if passenger died and body was recovered)\n",
    "* home.dest (Passenger Hometown)\n",
    "\n",
    "Types of features \n",
    "* Categorical (Number or Text)\n",
    "    * Ordinal\n",
    "    * Nominal\n",
    "* Numerical\n",
    "* Text\n",
    "    \n",
    "TBD: What is the type for following features. (choose from above)\n",
    "* name\n",
    "* sex\n",
    "* age\n",
    "* ticket\n",
    "* embarked (port of embarkment)\n",
    "* survived\n",
    "* parch (number of parents/children aboard)\n",
    "\n"
   ],
   "cell_type": "markdown",
   "metadata": {}
  },
  {
   "source": [
    "# Missing Data\n",
    "## TBD Which features in Titanic dataset have missing data"
   ],
   "cell_type": "code",
   "metadata": {
    "pycharm": {
     "name": "#%%\n"
    }
   },
   "execution_count": 7,
   "outputs": [
    {
     "name": "stdout",
     "output_type": "stream",
     "text": [
      "<class 'pandas.core.frame.DataFrame'>\n",
      "RangeIndex: 1309 entries, 0 to 1308\n",
      "Data columns (total 14 columns):\n",
      " #   Column     Non-Null Count  Dtype   \n",
      "---  ------     --------------  -----   \n",
      " 0   pclass     1309 non-null   float64 \n",
      " 1   survived   1309 non-null   category\n",
      " 2   name       1309 non-null   object  \n",
      " 3   sex        1309 non-null   category\n",
      " 4   age        1046 non-null   float64 \n",
      " 5   sibsp      1309 non-null   float64 \n",
      " 6   parch      1309 non-null   float64 \n",
      " 7   ticket     1309 non-null   object  \n",
      " 8   fare       1308 non-null   float64 \n",
      " 9   cabin      295 non-null    object  \n",
      " 10  embarked   1307 non-null   category\n",
      " 11  boat       486 non-null    object  \n",
      " 12  body       121 non-null    float64 \n",
      " 13  home.dest  745 non-null    object  \n",
      "dtypes: category(3), float64(6), object(5)\n",
      "memory usage: 116.7+ KB\n"
     ]
    },
    {
     "data": {
      "text/plain": "      pclass survived                                          name     sex  \\\n1298     3.0        0                     Wittevrongel, Mr. Camille    male   \n907      3.0        0                       Jussila, Miss. Katriina  female   \n84       1.0        0                     Cumings, Mr. John Bradley    male   \n1127     3.0        0                          Petroff, Mr. Nedelio    male   \n630      3.0        1  Andersson, Mr. August Edvard ('Wennerstrom')    male   \n895      3.0        1                  Johnson, Miss. Eleanor Ileen  female   \n799      3.0        0               Fischer, Mr. Eberhard Thelander    male   \n904      3.0        0                            Jonkoff, Mr. Lalio    male   \n942      3.0        0                            Lahoud, Mr. Sarkis    male   \n477      2.0        0                         Lamb, Mr. John Joseph    male   \n\n       age  sibsp  parch    ticket     fare cabin embarked  boat  body  \\\n1298  36.0    0.0    0.0    345771   9.5000  None        S  None   NaN   \n907   20.0    1.0    0.0      4136   9.8250  None        S  None   NaN   \n84    39.0    1.0    0.0  PC 17599  71.2833   C85        C  None   NaN   \n1127  19.0    0.0    0.0    349212   7.8958  None        S  None   NaN   \n630   27.0    0.0    0.0    350043   7.7958  None        S     A   NaN   \n895    1.0    1.0    1.0    347742  11.1333  None        S    15   NaN   \n799   18.0    0.0    0.0    350036   7.7958  None        S  None   NaN   \n904   23.0    0.0    0.0    349204   7.8958  None        S  None   NaN   \n942    NaN    0.0    0.0      2624   7.2250  None        C  None   NaN   \n477    NaN    0.0    0.0    240261  10.7083  None        Q  None   NaN   \n\n         home.dest  \n1298          None  \n907           None  \n84    New York, NY  \n1127          None  \n630           None  \n895           None  \n799           None  \n904           None  \n942           None  \n477           None  ",
      "text/html": "<div>\n<style scoped>\n    .dataframe tbody tr th:only-of-type {\n        vertical-align: middle;\n    }\n\n    .dataframe tbody tr th {\n        vertical-align: top;\n    }\n\n    .dataframe thead th {\n        text-align: right;\n    }\n</style>\n<table border=\"1\" class=\"dataframe\">\n  <thead>\n    <tr style=\"text-align: right;\">\n      <th></th>\n      <th>pclass</th>\n      <th>survived</th>\n      <th>name</th>\n      <th>sex</th>\n      <th>age</th>\n      <th>sibsp</th>\n      <th>parch</th>\n      <th>ticket</th>\n      <th>fare</th>\n      <th>cabin</th>\n      <th>embarked</th>\n      <th>boat</th>\n      <th>body</th>\n      <th>home.dest</th>\n    </tr>\n  </thead>\n  <tbody>\n    <tr>\n      <th>1298</th>\n      <td>3.0</td>\n      <td>0</td>\n      <td>Wittevrongel, Mr. Camille</td>\n      <td>male</td>\n      <td>36.0</td>\n      <td>0.0</td>\n      <td>0.0</td>\n      <td>345771</td>\n      <td>9.5000</td>\n      <td>None</td>\n      <td>S</td>\n      <td>None</td>\n      <td>NaN</td>\n      <td>None</td>\n    </tr>\n    <tr>\n      <th>907</th>\n      <td>3.0</td>\n      <td>0</td>\n      <td>Jussila, Miss. Katriina</td>\n      <td>female</td>\n      <td>20.0</td>\n      <td>1.0</td>\n      <td>0.0</td>\n      <td>4136</td>\n      <td>9.8250</td>\n      <td>None</td>\n      <td>S</td>\n      <td>None</td>\n      <td>NaN</td>\n      <td>None</td>\n    </tr>\n    <tr>\n      <th>84</th>\n      <td>1.0</td>\n      <td>0</td>\n      <td>Cumings, Mr. John Bradley</td>\n      <td>male</td>\n      <td>39.0</td>\n      <td>1.0</td>\n      <td>0.0</td>\n      <td>PC 17599</td>\n      <td>71.2833</td>\n      <td>C85</td>\n      <td>C</td>\n      <td>None</td>\n      <td>NaN</td>\n      <td>New York, NY</td>\n    </tr>\n    <tr>\n      <th>1127</th>\n      <td>3.0</td>\n      <td>0</td>\n      <td>Petroff, Mr. Nedelio</td>\n      <td>male</td>\n      <td>19.0</td>\n      <td>0.0</td>\n      <td>0.0</td>\n      <td>349212</td>\n      <td>7.8958</td>\n      <td>None</td>\n      <td>S</td>\n      <td>None</td>\n      <td>NaN</td>\n      <td>None</td>\n    </tr>\n    <tr>\n      <th>630</th>\n      <td>3.0</td>\n      <td>1</td>\n      <td>Andersson, Mr. August Edvard ('Wennerstrom')</td>\n      <td>male</td>\n      <td>27.0</td>\n      <td>0.0</td>\n      <td>0.0</td>\n      <td>350043</td>\n      <td>7.7958</td>\n      <td>None</td>\n      <td>S</td>\n      <td>A</td>\n      <td>NaN</td>\n      <td>None</td>\n    </tr>\n    <tr>\n      <th>895</th>\n      <td>3.0</td>\n      <td>1</td>\n      <td>Johnson, Miss. Eleanor Ileen</td>\n      <td>female</td>\n      <td>1.0</td>\n      <td>1.0</td>\n      <td>1.0</td>\n      <td>347742</td>\n      <td>11.1333</td>\n      <td>None</td>\n      <td>S</td>\n      <td>15</td>\n      <td>NaN</td>\n      <td>None</td>\n    </tr>\n    <tr>\n      <th>799</th>\n      <td>3.0</td>\n      <td>0</td>\n      <td>Fischer, Mr. Eberhard Thelander</td>\n      <td>male</td>\n      <td>18.0</td>\n      <td>0.0</td>\n      <td>0.0</td>\n      <td>350036</td>\n      <td>7.7958</td>\n      <td>None</td>\n      <td>S</td>\n      <td>None</td>\n      <td>NaN</td>\n      <td>None</td>\n    </tr>\n    <tr>\n      <th>904</th>\n      <td>3.0</td>\n      <td>0</td>\n      <td>Jonkoff, Mr. Lalio</td>\n      <td>male</td>\n      <td>23.0</td>\n      <td>0.0</td>\n      <td>0.0</td>\n      <td>349204</td>\n      <td>7.8958</td>\n      <td>None</td>\n      <td>S</td>\n      <td>None</td>\n      <td>NaN</td>\n      <td>None</td>\n    </tr>\n    <tr>\n      <th>942</th>\n      <td>3.0</td>\n      <td>0</td>\n      <td>Lahoud, Mr. Sarkis</td>\n      <td>male</td>\n      <td>NaN</td>\n      <td>0.0</td>\n      <td>0.0</td>\n      <td>2624</td>\n      <td>7.2250</td>\n      <td>None</td>\n      <td>C</td>\n      <td>None</td>\n      <td>NaN</td>\n      <td>None</td>\n    </tr>\n    <tr>\n      <th>477</th>\n      <td>2.0</td>\n      <td>0</td>\n      <td>Lamb, Mr. John Joseph</td>\n      <td>male</td>\n      <td>NaN</td>\n      <td>0.0</td>\n      <td>0.0</td>\n      <td>240261</td>\n      <td>10.7083</td>\n      <td>None</td>\n      <td>Q</td>\n      <td>None</td>\n      <td>NaN</td>\n      <td>None</td>\n    </tr>\n  </tbody>\n</table>\n</div>"
     },
     "execution_count": 7,
     "metadata": {},
     "output_type": "execute_result"
    }
   ]
  },
  {
   "source": [
    "## ML Ready: Is data ready to be fed to a classification problem?\n",
    "## TBD: What are 3 main issues that needs to be resolved in data?"
   ],
   "cell_type": "markdown",
   "metadata": {}
  },
  {
   "source": [
    "import pandas as pd\n",
    "\n",
    "def cleaner(df):\n",
    "  for col_name in df.columns:    \n",
    "      if df[col_name].dtype.name == 'category': \n",
    "        # Convert categorical types\n",
    "        df[col_name] = df[col_name].cat.codes\n",
    "      if df[col_name].dtype.name == 'object':\n",
    "        df = df.drop(columns=[col_name])\n",
    "  return df\n",
    "\n",
    "def titanic_cleaner(df):\n",
    "    df = df.drop(columns = ['body']) \n",
    "    return df.dropna()\n",
    "\n",
    "#TBD Using above 2 naive cleaner functions clean the titanic dataframe \n"
   ],
   "cell_type": "code",
   "metadata": {},
   "execution_count": null,
   "outputs": []
  },
  {
   "source": [
    "## TBD Split the data into train test (test_size=0.25, random_state=101)"
   ],
   "cell_type": "markdown",
   "metadata": {}
  },
  {
   "cell_type": "code",
   "execution_count": null,
   "metadata": {},
   "outputs": [],
   "source": [
    "from sklearn.model_selection import train_test_split\n"
   ]
  },
  {
   "source": [
    "## TBD Apply Logistic Regression "
   ],
   "cell_type": "markdown",
   "metadata": {}
  },
  {
   "source": [
    "from sklearn.model_selection import train_test_split\n",
    "from sklearn.linear_model import LogisticRegression\n",
    "from sklearn.metrics import accuracy_score\n",
    "\n",
    "#TBD Accuracy Score on test set"
   ],
   "cell_type": "code",
   "metadata": {},
   "execution_count": null,
   "outputs": []
  },
  {
   "cell_type": "markdown",
   "source": [
    "## What are the top 3 most important features for predicting survival?\n"
   ],
   "metadata": {
    "collapsed": false,
    "pycharm": {
     "name": "#%% md\n"
    }
   }
  }
 ],
 "metadata": {
  "kernelspec": {
   "display_name": "Python 3",
   "language": "python",
   "name": "python3"
  },
  "language_info": {
   "codemirror_mode": {
    "name": "ipython",
    "version": 3
   },
   "file_extension": ".py",
   "mimetype": "text/x-python",
   "name": "python",
   "nbconvert_exporter": "python",
   "pygments_lexer": "ipython3",
   "version": "3.8.2-final"
  }
 },
 "nbformat": 4,
 "nbformat_minor": 2
}