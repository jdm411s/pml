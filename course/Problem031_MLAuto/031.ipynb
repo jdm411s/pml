{
 "cells": [
  {
   "source": [
    "## Auto ML (Automating finding the best model)\n",
    "### In the classification problem of predicting the credit risk use AutoKeras to arrive at best Neural Network architecture.\n"
   ],
   "cell_type": "markdown",
   "metadata": {}
  },
  {
   "cell_type": "code",
   "execution_count": null,
   "metadata": {},
   "outputs": [],
   "source": [
    "!pip install autokeras"
   ]
  },
  {
   "cell_type": "code",
   "execution_count": 1,
   "metadata": {},
   "outputs": [],
   "source": [
    "from sklearn.datasets import fetch_openml\n",
    "import autokeras as ak\n",
    "\n",
    "d = fetch_openml(\"credit-g\")\n",
    "X = d[\"data\"]\n",
    "Y_raw = d[\"target\"]\n",
    "\n",
    "#TBD Split into train and test set\n",
    "\n",
    "classifier = ak.StructuredDataClassifier(overwrite=True, max_trials=5)\n",
    "#TBD Fit on train set\n",
    "\n",
    "#TBD Evaluate on test set \n"
   ]
  },
  {
   "source": [
    "## TBD: Show the best architecture found by autokeras"
   ],
   "cell_type": "markdown",
   "metadata": {}
  },
  {
   "source": [
    "## TBD: Could you beat the evaluation score of above architecture by any other manually selected model (including non neural net classifiers)"
   ],
   "cell_type": "markdown",
   "metadata": {}
  },
  {
   "source": [
    "## Auto Data Understanding\n",
    "## [Tensorflow Data Validation](https://www.tensorflow.org/tfx/guide/tfdv)"
   ],
   "cell_type": "markdown",
   "metadata": {}
  },
  {
   "source": [
    "## Auto Data Exploration\n",
    "[pandas-profiling](https://github.com/pandas-profiling/pandas-profiling)"
   ],
   "cell_type": "markdown",
   "metadata": {}
  },
  {
   "cell_type": "code",
   "execution_count": null,
   "metadata": {},
   "outputs": [],
   "source": []
  }
 ],
 "metadata": {
  "kernelspec": {
   "display_name": "Python 3",
   "language": "python",
   "name": "python3"
  },
  "language_info": {
   "codemirror_mode": {
    "name": "ipython",
    "version": 3
   },
   "file_extension": ".py",
   "mimetype": "text/x-python",
   "name": "python",
   "nbconvert_exporter": "python",
   "pygments_lexer": "ipython3",
   "version": "3.8.2-final"
  }
 },
 "nbformat": 4,
 "nbformat_minor": 2
}